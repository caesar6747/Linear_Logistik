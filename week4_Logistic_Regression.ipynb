{
  "nbformat": 4,
  "nbformat_minor": 0,
  "metadata": {
    "colab": {
      "name": "week4_Logistic_Regression.ipynb",
      "provenance": [],
      "collapsed_sections": []
    },
    "kernelspec": {
      "name": "python3",
      "display_name": "Python 3"
    },
    "language_info": {
      "name": "python"
    }
  },
  "cells": [
    {
      "cell_type": "code",
      "execution_count": 11,
      "metadata": {
        "id": "Q2RQTgnziyTM"
      },
      "outputs": [],
      "source": [
        "import numpy as np\n",
        "import matplotlib.pyplot as plt\n",
        "# import seaborn as sns\n",
        "import pandas as pd\n",
        "from sklearn.model_selection import train_test_split\n",
        "%matplotlib inline\n",
        "pd.plotting.register_matplotlib_converters()\n",
        "import seaborn as sns\n",
        "sns.set(style=\"whitegrid\")\n",
        "from sklearn.datasets import make_classification\n",
        "\n",
        "from sklearn.linear_model import LogisticRegression\n",
        "from sklearn.linear_model import LinearRegression\n",
        "from sklearn.metrics import accuracy_score\n",
        "from sklearn.preprocessing import PolynomialFeatures\n",
        "from sklearn.pipeline import Pipeline\n",
        "\n",
        "from sklearn.metrics import confusion_matrix\n",
        "from sklearn.metrics import confusion_matrix, precision_score, recall_score\n",
        "from sklearn.metrics import f1_score\n",
        "\n",
        "from sklearn.metrics import log_loss"
      ]
    },
    {
      "cell_type": "code",
      "source": [
        "from google.colab import drive\n",
        "drive.mount('/content/drive')"
      ],
      "metadata": {
        "id": "zIIZTICyqkg1",
        "colab": {
          "base_uri": "https://localhost:8080/"
        },
        "outputId": "c01046cc-fe76-4b71-cb8f-c184f70252a8"
      },
      "execution_count": 12,
      "outputs": [
        {
          "output_type": "stream",
          "name": "stdout",
          "text": [
            "Drive already mounted at /content/drive; to attempt to forcibly remount, call drive.mount(\"/content/drive\", force_remount=True).\n"
          ]
        }
      ]
    },
    {
      "cell_type": "code",
      "source": [
        "bank_df = pd.read_csv('/content/drive/MyDrive/Colab Notebooks/data/bank.csv',sep=';')\n",
        "bank_df"
      ],
      "metadata": {
        "colab": {
          "base_uri": "https://localhost:8080/",
          "height": 488
        },
        "id": "SzMFJxpHoIkU",
        "outputId": "0751527e-1581-49bf-9a9b-544846feca3b"
      },
      "execution_count": 13,
      "outputs": [
        {
          "output_type": "execute_result",
          "data": {
            "text/plain": [
              "       age          job  marital            education  default housing loan  \\\n",
              "0       56    housemaid  married             basic.4y       no      no   no   \n",
              "1       57     services  married          high.school  unknown      no   no   \n",
              "2       37     services  married          high.school       no     yes   no   \n",
              "3       40       admin.  married             basic.6y       no      no   no   \n",
              "4       56     services  married          high.school       no      no  yes   \n",
              "...    ...          ...      ...                  ...      ...     ...  ...   \n",
              "41183   73      retired  married  professional.course       no     yes   no   \n",
              "41184   46  blue-collar  married  professional.course       no      no   no   \n",
              "41185   56      retired  married    university.degree       no     yes   no   \n",
              "41186   44   technician  married  professional.course       no      no   no   \n",
              "41187   74      retired  married  professional.course       no     yes   no   \n",
              "\n",
              "         contact month day_of_week  ...  campaign  pdays  previous  \\\n",
              "0      telephone   may         mon  ...         1    999         0   \n",
              "1      telephone   may         mon  ...         1    999         0   \n",
              "2      telephone   may         mon  ...         1    999         0   \n",
              "3      telephone   may         mon  ...         1    999         0   \n",
              "4      telephone   may         mon  ...         1    999         0   \n",
              "...          ...   ...         ...  ...       ...    ...       ...   \n",
              "41183   cellular   nov         fri  ...         1    999         0   \n",
              "41184   cellular   nov         fri  ...         1    999         0   \n",
              "41185   cellular   nov         fri  ...         2    999         0   \n",
              "41186   cellular   nov         fri  ...         1    999         0   \n",
              "41187   cellular   nov         fri  ...         3    999         1   \n",
              "\n",
              "          poutcome emp.var.rate  cons.price.idx  cons.conf.idx  euribor3m  \\\n",
              "0      nonexistent          1.1          93.994          -36.4      4.857   \n",
              "1      nonexistent          1.1          93.994          -36.4      4.857   \n",
              "2      nonexistent          1.1          93.994          -36.4      4.857   \n",
              "3      nonexistent          1.1          93.994          -36.4      4.857   \n",
              "4      nonexistent          1.1          93.994          -36.4      4.857   \n",
              "...            ...          ...             ...            ...        ...   \n",
              "41183  nonexistent         -1.1          94.767          -50.8      1.028   \n",
              "41184  nonexistent         -1.1          94.767          -50.8      1.028   \n",
              "41185  nonexistent         -1.1          94.767          -50.8      1.028   \n",
              "41186  nonexistent         -1.1          94.767          -50.8      1.028   \n",
              "41187      failure         -1.1          94.767          -50.8      1.028   \n",
              "\n",
              "       nr.employed    y  \n",
              "0           5191.0   no  \n",
              "1           5191.0   no  \n",
              "2           5191.0   no  \n",
              "3           5191.0   no  \n",
              "4           5191.0   no  \n",
              "...            ...  ...  \n",
              "41183       4963.6  yes  \n",
              "41184       4963.6   no  \n",
              "41185       4963.6   no  \n",
              "41186       4963.6  yes  \n",
              "41187       4963.6   no  \n",
              "\n",
              "[41188 rows x 21 columns]"
            ],
            "text/html": [
              "\n",
              "  <div id=\"df-b1d2b3a2-08ad-4403-ab57-a5ca419883ab\">\n",
              "    <div class=\"colab-df-container\">\n",
              "      <div>\n",
              "<style scoped>\n",
              "    .dataframe tbody tr th:only-of-type {\n",
              "        vertical-align: middle;\n",
              "    }\n",
              "\n",
              "    .dataframe tbody tr th {\n",
              "        vertical-align: top;\n",
              "    }\n",
              "\n",
              "    .dataframe thead th {\n",
              "        text-align: right;\n",
              "    }\n",
              "</style>\n",
              "<table border=\"1\" class=\"dataframe\">\n",
              "  <thead>\n",
              "    <tr style=\"text-align: right;\">\n",
              "      <th></th>\n",
              "      <th>age</th>\n",
              "      <th>job</th>\n",
              "      <th>marital</th>\n",
              "      <th>education</th>\n",
              "      <th>default</th>\n",
              "      <th>housing</th>\n",
              "      <th>loan</th>\n",
              "      <th>contact</th>\n",
              "      <th>month</th>\n",
              "      <th>day_of_week</th>\n",
              "      <th>...</th>\n",
              "      <th>campaign</th>\n",
              "      <th>pdays</th>\n",
              "      <th>previous</th>\n",
              "      <th>poutcome</th>\n",
              "      <th>emp.var.rate</th>\n",
              "      <th>cons.price.idx</th>\n",
              "      <th>cons.conf.idx</th>\n",
              "      <th>euribor3m</th>\n",
              "      <th>nr.employed</th>\n",
              "      <th>y</th>\n",
              "    </tr>\n",
              "  </thead>\n",
              "  <tbody>\n",
              "    <tr>\n",
              "      <th>0</th>\n",
              "      <td>56</td>\n",
              "      <td>housemaid</td>\n",
              "      <td>married</td>\n",
              "      <td>basic.4y</td>\n",
              "      <td>no</td>\n",
              "      <td>no</td>\n",
              "      <td>no</td>\n",
              "      <td>telephone</td>\n",
              "      <td>may</td>\n",
              "      <td>mon</td>\n",
              "      <td>...</td>\n",
              "      <td>1</td>\n",
              "      <td>999</td>\n",
              "      <td>0</td>\n",
              "      <td>nonexistent</td>\n",
              "      <td>1.1</td>\n",
              "      <td>93.994</td>\n",
              "      <td>-36.4</td>\n",
              "      <td>4.857</td>\n",
              "      <td>5191.0</td>\n",
              "      <td>no</td>\n",
              "    </tr>\n",
              "    <tr>\n",
              "      <th>1</th>\n",
              "      <td>57</td>\n",
              "      <td>services</td>\n",
              "      <td>married</td>\n",
              "      <td>high.school</td>\n",
              "      <td>unknown</td>\n",
              "      <td>no</td>\n",
              "      <td>no</td>\n",
              "      <td>telephone</td>\n",
              "      <td>may</td>\n",
              "      <td>mon</td>\n",
              "      <td>...</td>\n",
              "      <td>1</td>\n",
              "      <td>999</td>\n",
              "      <td>0</td>\n",
              "      <td>nonexistent</td>\n",
              "      <td>1.1</td>\n",
              "      <td>93.994</td>\n",
              "      <td>-36.4</td>\n",
              "      <td>4.857</td>\n",
              "      <td>5191.0</td>\n",
              "      <td>no</td>\n",
              "    </tr>\n",
              "    <tr>\n",
              "      <th>2</th>\n",
              "      <td>37</td>\n",
              "      <td>services</td>\n",
              "      <td>married</td>\n",
              "      <td>high.school</td>\n",
              "      <td>no</td>\n",
              "      <td>yes</td>\n",
              "      <td>no</td>\n",
              "      <td>telephone</td>\n",
              "      <td>may</td>\n",
              "      <td>mon</td>\n",
              "      <td>...</td>\n",
              "      <td>1</td>\n",
              "      <td>999</td>\n",
              "      <td>0</td>\n",
              "      <td>nonexistent</td>\n",
              "      <td>1.1</td>\n",
              "      <td>93.994</td>\n",
              "      <td>-36.4</td>\n",
              "      <td>4.857</td>\n",
              "      <td>5191.0</td>\n",
              "      <td>no</td>\n",
              "    </tr>\n",
              "    <tr>\n",
              "      <th>3</th>\n",
              "      <td>40</td>\n",
              "      <td>admin.</td>\n",
              "      <td>married</td>\n",
              "      <td>basic.6y</td>\n",
              "      <td>no</td>\n",
              "      <td>no</td>\n",
              "      <td>no</td>\n",
              "      <td>telephone</td>\n",
              "      <td>may</td>\n",
              "      <td>mon</td>\n",
              "      <td>...</td>\n",
              "      <td>1</td>\n",
              "      <td>999</td>\n",
              "      <td>0</td>\n",
              "      <td>nonexistent</td>\n",
              "      <td>1.1</td>\n",
              "      <td>93.994</td>\n",
              "      <td>-36.4</td>\n",
              "      <td>4.857</td>\n",
              "      <td>5191.0</td>\n",
              "      <td>no</td>\n",
              "    </tr>\n",
              "    <tr>\n",
              "      <th>4</th>\n",
              "      <td>56</td>\n",
              "      <td>services</td>\n",
              "      <td>married</td>\n",
              "      <td>high.school</td>\n",
              "      <td>no</td>\n",
              "      <td>no</td>\n",
              "      <td>yes</td>\n",
              "      <td>telephone</td>\n",
              "      <td>may</td>\n",
              "      <td>mon</td>\n",
              "      <td>...</td>\n",
              "      <td>1</td>\n",
              "      <td>999</td>\n",
              "      <td>0</td>\n",
              "      <td>nonexistent</td>\n",
              "      <td>1.1</td>\n",
              "      <td>93.994</td>\n",
              "      <td>-36.4</td>\n",
              "      <td>4.857</td>\n",
              "      <td>5191.0</td>\n",
              "      <td>no</td>\n",
              "    </tr>\n",
              "    <tr>\n",
              "      <th>...</th>\n",
              "      <td>...</td>\n",
              "      <td>...</td>\n",
              "      <td>...</td>\n",
              "      <td>...</td>\n",
              "      <td>...</td>\n",
              "      <td>...</td>\n",
              "      <td>...</td>\n",
              "      <td>...</td>\n",
              "      <td>...</td>\n",
              "      <td>...</td>\n",
              "      <td>...</td>\n",
              "      <td>...</td>\n",
              "      <td>...</td>\n",
              "      <td>...</td>\n",
              "      <td>...</td>\n",
              "      <td>...</td>\n",
              "      <td>...</td>\n",
              "      <td>...</td>\n",
              "      <td>...</td>\n",
              "      <td>...</td>\n",
              "      <td>...</td>\n",
              "    </tr>\n",
              "    <tr>\n",
              "      <th>41183</th>\n",
              "      <td>73</td>\n",
              "      <td>retired</td>\n",
              "      <td>married</td>\n",
              "      <td>professional.course</td>\n",
              "      <td>no</td>\n",
              "      <td>yes</td>\n",
              "      <td>no</td>\n",
              "      <td>cellular</td>\n",
              "      <td>nov</td>\n",
              "      <td>fri</td>\n",
              "      <td>...</td>\n",
              "      <td>1</td>\n",
              "      <td>999</td>\n",
              "      <td>0</td>\n",
              "      <td>nonexistent</td>\n",
              "      <td>-1.1</td>\n",
              "      <td>94.767</td>\n",
              "      <td>-50.8</td>\n",
              "      <td>1.028</td>\n",
              "      <td>4963.6</td>\n",
              "      <td>yes</td>\n",
              "    </tr>\n",
              "    <tr>\n",
              "      <th>41184</th>\n",
              "      <td>46</td>\n",
              "      <td>blue-collar</td>\n",
              "      <td>married</td>\n",
              "      <td>professional.course</td>\n",
              "      <td>no</td>\n",
              "      <td>no</td>\n",
              "      <td>no</td>\n",
              "      <td>cellular</td>\n",
              "      <td>nov</td>\n",
              "      <td>fri</td>\n",
              "      <td>...</td>\n",
              "      <td>1</td>\n",
              "      <td>999</td>\n",
              "      <td>0</td>\n",
              "      <td>nonexistent</td>\n",
              "      <td>-1.1</td>\n",
              "      <td>94.767</td>\n",
              "      <td>-50.8</td>\n",
              "      <td>1.028</td>\n",
              "      <td>4963.6</td>\n",
              "      <td>no</td>\n",
              "    </tr>\n",
              "    <tr>\n",
              "      <th>41185</th>\n",
              "      <td>56</td>\n",
              "      <td>retired</td>\n",
              "      <td>married</td>\n",
              "      <td>university.degree</td>\n",
              "      <td>no</td>\n",
              "      <td>yes</td>\n",
              "      <td>no</td>\n",
              "      <td>cellular</td>\n",
              "      <td>nov</td>\n",
              "      <td>fri</td>\n",
              "      <td>...</td>\n",
              "      <td>2</td>\n",
              "      <td>999</td>\n",
              "      <td>0</td>\n",
              "      <td>nonexistent</td>\n",
              "      <td>-1.1</td>\n",
              "      <td>94.767</td>\n",
              "      <td>-50.8</td>\n",
              "      <td>1.028</td>\n",
              "      <td>4963.6</td>\n",
              "      <td>no</td>\n",
              "    </tr>\n",
              "    <tr>\n",
              "      <th>41186</th>\n",
              "      <td>44</td>\n",
              "      <td>technician</td>\n",
              "      <td>married</td>\n",
              "      <td>professional.course</td>\n",
              "      <td>no</td>\n",
              "      <td>no</td>\n",
              "      <td>no</td>\n",
              "      <td>cellular</td>\n",
              "      <td>nov</td>\n",
              "      <td>fri</td>\n",
              "      <td>...</td>\n",
              "      <td>1</td>\n",
              "      <td>999</td>\n",
              "      <td>0</td>\n",
              "      <td>nonexistent</td>\n",
              "      <td>-1.1</td>\n",
              "      <td>94.767</td>\n",
              "      <td>-50.8</td>\n",
              "      <td>1.028</td>\n",
              "      <td>4963.6</td>\n",
              "      <td>yes</td>\n",
              "    </tr>\n",
              "    <tr>\n",
              "      <th>41187</th>\n",
              "      <td>74</td>\n",
              "      <td>retired</td>\n",
              "      <td>married</td>\n",
              "      <td>professional.course</td>\n",
              "      <td>no</td>\n",
              "      <td>yes</td>\n",
              "      <td>no</td>\n",
              "      <td>cellular</td>\n",
              "      <td>nov</td>\n",
              "      <td>fri</td>\n",
              "      <td>...</td>\n",
              "      <td>3</td>\n",
              "      <td>999</td>\n",
              "      <td>1</td>\n",
              "      <td>failure</td>\n",
              "      <td>-1.1</td>\n",
              "      <td>94.767</td>\n",
              "      <td>-50.8</td>\n",
              "      <td>1.028</td>\n",
              "      <td>4963.6</td>\n",
              "      <td>no</td>\n",
              "    </tr>\n",
              "  </tbody>\n",
              "</table>\n",
              "<p>41188 rows × 21 columns</p>\n",
              "</div>\n",
              "      <button class=\"colab-df-convert\" onclick=\"convertToInteractive('df-b1d2b3a2-08ad-4403-ab57-a5ca419883ab')\"\n",
              "              title=\"Convert this dataframe to an interactive table.\"\n",
              "              style=\"display:none;\">\n",
              "        \n",
              "  <svg xmlns=\"http://www.w3.org/2000/svg\" height=\"24px\"viewBox=\"0 0 24 24\"\n",
              "       width=\"24px\">\n",
              "    <path d=\"M0 0h24v24H0V0z\" fill=\"none\"/>\n",
              "    <path d=\"M18.56 5.44l.94 2.06.94-2.06 2.06-.94-2.06-.94-.94-2.06-.94 2.06-2.06.94zm-11 1L8.5 8.5l.94-2.06 2.06-.94-2.06-.94L8.5 2.5l-.94 2.06-2.06.94zm10 10l.94 2.06.94-2.06 2.06-.94-2.06-.94-.94-2.06-.94 2.06-2.06.94z\"/><path d=\"M17.41 7.96l-1.37-1.37c-.4-.4-.92-.59-1.43-.59-.52 0-1.04.2-1.43.59L10.3 9.45l-7.72 7.72c-.78.78-.78 2.05 0 2.83L4 21.41c.39.39.9.59 1.41.59.51 0 1.02-.2 1.41-.59l7.78-7.78 2.81-2.81c.8-.78.8-2.07 0-2.86zM5.41 20L4 18.59l7.72-7.72 1.47 1.35L5.41 20z\"/>\n",
              "  </svg>\n",
              "      </button>\n",
              "      \n",
              "  <style>\n",
              "    .colab-df-container {\n",
              "      display:flex;\n",
              "      flex-wrap:wrap;\n",
              "      gap: 12px;\n",
              "    }\n",
              "\n",
              "    .colab-df-convert {\n",
              "      background-color: #E8F0FE;\n",
              "      border: none;\n",
              "      border-radius: 50%;\n",
              "      cursor: pointer;\n",
              "      display: none;\n",
              "      fill: #1967D2;\n",
              "      height: 32px;\n",
              "      padding: 0 0 0 0;\n",
              "      width: 32px;\n",
              "    }\n",
              "\n",
              "    .colab-df-convert:hover {\n",
              "      background-color: #E2EBFA;\n",
              "      box-shadow: 0px 1px 2px rgba(60, 64, 67, 0.3), 0px 1px 3px 1px rgba(60, 64, 67, 0.15);\n",
              "      fill: #174EA6;\n",
              "    }\n",
              "\n",
              "    [theme=dark] .colab-df-convert {\n",
              "      background-color: #3B4455;\n",
              "      fill: #D2E3FC;\n",
              "    }\n",
              "\n",
              "    [theme=dark] .colab-df-convert:hover {\n",
              "      background-color: #434B5C;\n",
              "      box-shadow: 0px 1px 3px 1px rgba(0, 0, 0, 0.15);\n",
              "      filter: drop-shadow(0px 1px 2px rgba(0, 0, 0, 0.3));\n",
              "      fill: #FFFFFF;\n",
              "    }\n",
              "  </style>\n",
              "\n",
              "      <script>\n",
              "        const buttonEl =\n",
              "          document.querySelector('#df-b1d2b3a2-08ad-4403-ab57-a5ca419883ab button.colab-df-convert');\n",
              "        buttonEl.style.display =\n",
              "          google.colab.kernel.accessAllowed ? 'block' : 'none';\n",
              "\n",
              "        async function convertToInteractive(key) {\n",
              "          const element = document.querySelector('#df-b1d2b3a2-08ad-4403-ab57-a5ca419883ab');\n",
              "          const dataTable =\n",
              "            await google.colab.kernel.invokeFunction('convertToInteractive',\n",
              "                                                     [key], {});\n",
              "          if (!dataTable) return;\n",
              "\n",
              "          const docLinkHtml = 'Like what you see? Visit the ' +\n",
              "            '<a target=\"_blank\" href=https://colab.research.google.com/notebooks/data_table.ipynb>data table notebook</a>'\n",
              "            + ' to learn more about interactive tables.';\n",
              "          element.innerHTML = '';\n",
              "          dataTable['output_type'] = 'display_data';\n",
              "          await google.colab.output.renderOutput(dataTable, element);\n",
              "          const docLink = document.createElement('div');\n",
              "          docLink.innerHTML = docLinkHtml;\n",
              "          element.appendChild(docLink);\n",
              "        }\n",
              "      </script>\n",
              "    </div>\n",
              "  </div>\n",
              "  "
            ]
          },
          "metadata": {},
          "execution_count": 13
        }
      ]
    },
    {
      "cell_type": "code",
      "source": [
        "age_y = bank_df[bank_df['y']=='yes']\n",
        "age_n = bank_df[bank_df['y']=='no']\n",
        "\n",
        "age_y = age_y.loc[:,['age','duration', 'campaign','euribor3m']]\n",
        "age_n = age_n.loc[:,['age','duration', 'campaign','euribor3m']]\n",
        "age_n.head"
      ],
      "metadata": {
        "id": "fzcinrK5YzPG",
        "colab": {
          "base_uri": "https://localhost:8080/"
        },
        "outputId": "5c034674-11d4-4a64-ccee-9e522d5f6a06"
      },
      "execution_count": 105,
      "outputs": [
        {
          "output_type": "execute_result",
          "data": {
            "text/plain": [
              "<bound method NDFrame.head of        age  duration  campaign  euribor3m\n",
              "0       56       261         1      4.857\n",
              "1       57       149         1      4.857\n",
              "2       37       226         1      4.857\n",
              "3       40       151         1      4.857\n",
              "4       56       307         1      4.857\n",
              "...    ...       ...       ...        ...\n",
              "41180   36       254         2      1.028\n",
              "41182   29       112         1      1.028\n",
              "41184   46       383         1      1.028\n",
              "41185   56       189         2      1.028\n",
              "41187   74       239         3      1.028\n",
              "\n",
              "[36548 rows x 4 columns]>"
            ]
          },
          "metadata": {},
          "execution_count": 105
        }
      ]
    },
    {
      "cell_type": "code",
      "source": [
        "bank_df.info()"
      ],
      "metadata": {
        "id": "TLrkUFV7FzMf",
        "colab": {
          "base_uri": "https://localhost:8080/"
        },
        "outputId": "42e886c2-7256-4815-b5f8-66e6a2366bdc"
      },
      "execution_count": 15,
      "outputs": [
        {
          "output_type": "stream",
          "name": "stdout",
          "text": [
            "<class 'pandas.core.frame.DataFrame'>\n",
            "RangeIndex: 41188 entries, 0 to 41187\n",
            "Data columns (total 21 columns):\n",
            " #   Column          Non-Null Count  Dtype  \n",
            "---  ------          --------------  -----  \n",
            " 0   age             41188 non-null  int64  \n",
            " 1   job             41188 non-null  object \n",
            " 2   marital         41188 non-null  object \n",
            " 3   education       41188 non-null  object \n",
            " 4   default         41188 non-null  object \n",
            " 5   housing         41188 non-null  object \n",
            " 6   loan            41188 non-null  object \n",
            " 7   contact         41188 non-null  object \n",
            " 8   month           41188 non-null  object \n",
            " 9   day_of_week     41188 non-null  object \n",
            " 10  duration        41188 non-null  int64  \n",
            " 11  campaign        41188 non-null  int64  \n",
            " 12  pdays           41188 non-null  int64  \n",
            " 13  previous        41188 non-null  int64  \n",
            " 14  poutcome        41188 non-null  object \n",
            " 15  emp.var.rate    41188 non-null  float64\n",
            " 16  cons.price.idx  41188 non-null  float64\n",
            " 17  cons.conf.idx   41188 non-null  float64\n",
            " 18  euribor3m       41188 non-null  float64\n",
            " 19  nr.employed     41188 non-null  float64\n",
            " 20  y               41188 non-null  object \n",
            "dtypes: float64(5), int64(5), object(11)\n",
            "memory usage: 6.6+ MB\n"
          ]
        }
      ]
    },
    {
      "cell_type": "code",
      "source": [
        "bank_df.describe()"
      ],
      "metadata": {
        "id": "wjLWFTqNF2zk",
        "colab": {
          "base_uri": "https://localhost:8080/",
          "height": 300
        },
        "outputId": "99926ae2-ba0f-4c20-86d3-3b1867571012"
      },
      "execution_count": 16,
      "outputs": [
        {
          "output_type": "execute_result",
          "data": {
            "text/plain": [
              "               age      duration      campaign         pdays      previous  \\\n",
              "count  41188.00000  41188.000000  41188.000000  41188.000000  41188.000000   \n",
              "mean      40.02406    258.285010      2.567593    962.475454      0.172963   \n",
              "std       10.42125    259.279249      2.770014    186.910907      0.494901   \n",
              "min       17.00000      0.000000      1.000000      0.000000      0.000000   \n",
              "25%       32.00000    102.000000      1.000000    999.000000      0.000000   \n",
              "50%       38.00000    180.000000      2.000000    999.000000      0.000000   \n",
              "75%       47.00000    319.000000      3.000000    999.000000      0.000000   \n",
              "max       98.00000   4918.000000     56.000000    999.000000      7.000000   \n",
              "\n",
              "       emp.var.rate  cons.price.idx  cons.conf.idx     euribor3m   nr.employed  \n",
              "count  41188.000000    41188.000000   41188.000000  41188.000000  41188.000000  \n",
              "mean       0.081886       93.575664     -40.502600      3.621291   5167.035911  \n",
              "std        1.570960        0.578840       4.628198      1.734447     72.251528  \n",
              "min       -3.400000       92.201000     -50.800000      0.634000   4963.600000  \n",
              "25%       -1.800000       93.075000     -42.700000      1.344000   5099.100000  \n",
              "50%        1.100000       93.749000     -41.800000      4.857000   5191.000000  \n",
              "75%        1.400000       93.994000     -36.400000      4.961000   5228.100000  \n",
              "max        1.400000       94.767000     -26.900000      5.045000   5228.100000  "
            ],
            "text/html": [
              "\n",
              "  <div id=\"df-b937c316-9448-4afa-99d7-ae01cd116cf9\">\n",
              "    <div class=\"colab-df-container\">\n",
              "      <div>\n",
              "<style scoped>\n",
              "    .dataframe tbody tr th:only-of-type {\n",
              "        vertical-align: middle;\n",
              "    }\n",
              "\n",
              "    .dataframe tbody tr th {\n",
              "        vertical-align: top;\n",
              "    }\n",
              "\n",
              "    .dataframe thead th {\n",
              "        text-align: right;\n",
              "    }\n",
              "</style>\n",
              "<table border=\"1\" class=\"dataframe\">\n",
              "  <thead>\n",
              "    <tr style=\"text-align: right;\">\n",
              "      <th></th>\n",
              "      <th>age</th>\n",
              "      <th>duration</th>\n",
              "      <th>campaign</th>\n",
              "      <th>pdays</th>\n",
              "      <th>previous</th>\n",
              "      <th>emp.var.rate</th>\n",
              "      <th>cons.price.idx</th>\n",
              "      <th>cons.conf.idx</th>\n",
              "      <th>euribor3m</th>\n",
              "      <th>nr.employed</th>\n",
              "    </tr>\n",
              "  </thead>\n",
              "  <tbody>\n",
              "    <tr>\n",
              "      <th>count</th>\n",
              "      <td>41188.00000</td>\n",
              "      <td>41188.000000</td>\n",
              "      <td>41188.000000</td>\n",
              "      <td>41188.000000</td>\n",
              "      <td>41188.000000</td>\n",
              "      <td>41188.000000</td>\n",
              "      <td>41188.000000</td>\n",
              "      <td>41188.000000</td>\n",
              "      <td>41188.000000</td>\n",
              "      <td>41188.000000</td>\n",
              "    </tr>\n",
              "    <tr>\n",
              "      <th>mean</th>\n",
              "      <td>40.02406</td>\n",
              "      <td>258.285010</td>\n",
              "      <td>2.567593</td>\n",
              "      <td>962.475454</td>\n",
              "      <td>0.172963</td>\n",
              "      <td>0.081886</td>\n",
              "      <td>93.575664</td>\n",
              "      <td>-40.502600</td>\n",
              "      <td>3.621291</td>\n",
              "      <td>5167.035911</td>\n",
              "    </tr>\n",
              "    <tr>\n",
              "      <th>std</th>\n",
              "      <td>10.42125</td>\n",
              "      <td>259.279249</td>\n",
              "      <td>2.770014</td>\n",
              "      <td>186.910907</td>\n",
              "      <td>0.494901</td>\n",
              "      <td>1.570960</td>\n",
              "      <td>0.578840</td>\n",
              "      <td>4.628198</td>\n",
              "      <td>1.734447</td>\n",
              "      <td>72.251528</td>\n",
              "    </tr>\n",
              "    <tr>\n",
              "      <th>min</th>\n",
              "      <td>17.00000</td>\n",
              "      <td>0.000000</td>\n",
              "      <td>1.000000</td>\n",
              "      <td>0.000000</td>\n",
              "      <td>0.000000</td>\n",
              "      <td>-3.400000</td>\n",
              "      <td>92.201000</td>\n",
              "      <td>-50.800000</td>\n",
              "      <td>0.634000</td>\n",
              "      <td>4963.600000</td>\n",
              "    </tr>\n",
              "    <tr>\n",
              "      <th>25%</th>\n",
              "      <td>32.00000</td>\n",
              "      <td>102.000000</td>\n",
              "      <td>1.000000</td>\n",
              "      <td>999.000000</td>\n",
              "      <td>0.000000</td>\n",
              "      <td>-1.800000</td>\n",
              "      <td>93.075000</td>\n",
              "      <td>-42.700000</td>\n",
              "      <td>1.344000</td>\n",
              "      <td>5099.100000</td>\n",
              "    </tr>\n",
              "    <tr>\n",
              "      <th>50%</th>\n",
              "      <td>38.00000</td>\n",
              "      <td>180.000000</td>\n",
              "      <td>2.000000</td>\n",
              "      <td>999.000000</td>\n",
              "      <td>0.000000</td>\n",
              "      <td>1.100000</td>\n",
              "      <td>93.749000</td>\n",
              "      <td>-41.800000</td>\n",
              "      <td>4.857000</td>\n",
              "      <td>5191.000000</td>\n",
              "    </tr>\n",
              "    <tr>\n",
              "      <th>75%</th>\n",
              "      <td>47.00000</td>\n",
              "      <td>319.000000</td>\n",
              "      <td>3.000000</td>\n",
              "      <td>999.000000</td>\n",
              "      <td>0.000000</td>\n",
              "      <td>1.400000</td>\n",
              "      <td>93.994000</td>\n",
              "      <td>-36.400000</td>\n",
              "      <td>4.961000</td>\n",
              "      <td>5228.100000</td>\n",
              "    </tr>\n",
              "    <tr>\n",
              "      <th>max</th>\n",
              "      <td>98.00000</td>\n",
              "      <td>4918.000000</td>\n",
              "      <td>56.000000</td>\n",
              "      <td>999.000000</td>\n",
              "      <td>7.000000</td>\n",
              "      <td>1.400000</td>\n",
              "      <td>94.767000</td>\n",
              "      <td>-26.900000</td>\n",
              "      <td>5.045000</td>\n",
              "      <td>5228.100000</td>\n",
              "    </tr>\n",
              "  </tbody>\n",
              "</table>\n",
              "</div>\n",
              "      <button class=\"colab-df-convert\" onclick=\"convertToInteractive('df-b937c316-9448-4afa-99d7-ae01cd116cf9')\"\n",
              "              title=\"Convert this dataframe to an interactive table.\"\n",
              "              style=\"display:none;\">\n",
              "        \n",
              "  <svg xmlns=\"http://www.w3.org/2000/svg\" height=\"24px\"viewBox=\"0 0 24 24\"\n",
              "       width=\"24px\">\n",
              "    <path d=\"M0 0h24v24H0V0z\" fill=\"none\"/>\n",
              "    <path d=\"M18.56 5.44l.94 2.06.94-2.06 2.06-.94-2.06-.94-.94-2.06-.94 2.06-2.06.94zm-11 1L8.5 8.5l.94-2.06 2.06-.94-2.06-.94L8.5 2.5l-.94 2.06-2.06.94zm10 10l.94 2.06.94-2.06 2.06-.94-2.06-.94-.94-2.06-.94 2.06-2.06.94z\"/><path d=\"M17.41 7.96l-1.37-1.37c-.4-.4-.92-.59-1.43-.59-.52 0-1.04.2-1.43.59L10.3 9.45l-7.72 7.72c-.78.78-.78 2.05 0 2.83L4 21.41c.39.39.9.59 1.41.59.51 0 1.02-.2 1.41-.59l7.78-7.78 2.81-2.81c.8-.78.8-2.07 0-2.86zM5.41 20L4 18.59l7.72-7.72 1.47 1.35L5.41 20z\"/>\n",
              "  </svg>\n",
              "      </button>\n",
              "      \n",
              "  <style>\n",
              "    .colab-df-container {\n",
              "      display:flex;\n",
              "      flex-wrap:wrap;\n",
              "      gap: 12px;\n",
              "    }\n",
              "\n",
              "    .colab-df-convert {\n",
              "      background-color: #E8F0FE;\n",
              "      border: none;\n",
              "      border-radius: 50%;\n",
              "      cursor: pointer;\n",
              "      display: none;\n",
              "      fill: #1967D2;\n",
              "      height: 32px;\n",
              "      padding: 0 0 0 0;\n",
              "      width: 32px;\n",
              "    }\n",
              "\n",
              "    .colab-df-convert:hover {\n",
              "      background-color: #E2EBFA;\n",
              "      box-shadow: 0px 1px 2px rgba(60, 64, 67, 0.3), 0px 1px 3px 1px rgba(60, 64, 67, 0.15);\n",
              "      fill: #174EA6;\n",
              "    }\n",
              "\n",
              "    [theme=dark] .colab-df-convert {\n",
              "      background-color: #3B4455;\n",
              "      fill: #D2E3FC;\n",
              "    }\n",
              "\n",
              "    [theme=dark] .colab-df-convert:hover {\n",
              "      background-color: #434B5C;\n",
              "      box-shadow: 0px 1px 3px 1px rgba(0, 0, 0, 0.15);\n",
              "      filter: drop-shadow(0px 1px 2px rgba(0, 0, 0, 0.3));\n",
              "      fill: #FFFFFF;\n",
              "    }\n",
              "  </style>\n",
              "\n",
              "      <script>\n",
              "        const buttonEl =\n",
              "          document.querySelector('#df-b937c316-9448-4afa-99d7-ae01cd116cf9 button.colab-df-convert');\n",
              "        buttonEl.style.display =\n",
              "          google.colab.kernel.accessAllowed ? 'block' : 'none';\n",
              "\n",
              "        async function convertToInteractive(key) {\n",
              "          const element = document.querySelector('#df-b937c316-9448-4afa-99d7-ae01cd116cf9');\n",
              "          const dataTable =\n",
              "            await google.colab.kernel.invokeFunction('convertToInteractive',\n",
              "                                                     [key], {});\n",
              "          if (!dataTable) return;\n",
              "\n",
              "          const docLinkHtml = 'Like what you see? Visit the ' +\n",
              "            '<a target=\"_blank\" href=https://colab.research.google.com/notebooks/data_table.ipynb>data table notebook</a>'\n",
              "            + ' to learn more about interactive tables.';\n",
              "          element.innerHTML = '';\n",
              "          dataTable['output_type'] = 'display_data';\n",
              "          await google.colab.output.renderOutput(dataTable, element);\n",
              "          const docLink = document.createElement('div');\n",
              "          docLink.innerHTML = docLinkHtml;\n",
              "          element.appendChild(docLink);\n",
              "        }\n",
              "      </script>\n",
              "    </div>\n",
              "  </div>\n",
              "  "
            ]
          },
          "metadata": {},
          "execution_count": 16
        }
      ]
    },
    {
      "cell_type": "code",
      "source": [
        "#bank = bank_df['age', ]\n",
        "coll = ['job','marital','education','default','housing','loan','contact','month','day_of_week','poutcome']\n",
        "bank_df.drop(coll, axis=1, inplace=True)\n",
        "bank_df.dtypes"
      ],
      "metadata": {
        "id": "sez6OLtsw5km",
        "colab": {
          "base_uri": "https://localhost:8080/"
        },
        "outputId": "05539637-9963-460f-b0f6-f36b98f5114b"
      },
      "execution_count": 17,
      "outputs": [
        {
          "output_type": "execute_result",
          "data": {
            "text/plain": [
              "age                 int64\n",
              "duration            int64\n",
              "campaign            int64\n",
              "pdays               int64\n",
              "previous            int64\n",
              "emp.var.rate      float64\n",
              "cons.price.idx    float64\n",
              "cons.conf.idx     float64\n",
              "euribor3m         float64\n",
              "nr.employed       float64\n",
              "y                  object\n",
              "dtype: object"
            ]
          },
          "metadata": {},
          "execution_count": 17
        }
      ]
    },
    {
      "cell_type": "code",
      "source": [
        "bank_df.age.unique()"
      ],
      "metadata": {
        "id": "Qfa5pmFKChfw",
        "colab": {
          "base_uri": "https://localhost:8080/"
        },
        "outputId": "154197ed-6527-49a5-d63c-f2840d57a4e4"
      },
      "execution_count": 18,
      "outputs": [
        {
          "output_type": "execute_result",
          "data": {
            "text/plain": [
              "array([56, 57, 37, 40, 45, 59, 41, 24, 25, 29, 35, 54, 46, 50, 39, 30, 55,\n",
              "       49, 34, 52, 58, 32, 38, 44, 42, 60, 53, 47, 51, 48, 33, 31, 43, 36,\n",
              "       28, 27, 26, 22, 23, 20, 21, 61, 19, 18, 70, 66, 76, 67, 73, 88, 95,\n",
              "       77, 68, 75, 63, 80, 62, 65, 72, 82, 64, 71, 69, 78, 85, 79, 83, 81,\n",
              "       74, 17, 87, 91, 86, 98, 94, 84, 92, 89])"
            ]
          },
          "metadata": {},
          "execution_count": 18
        }
      ]
    },
    {
      "cell_type": "code",
      "source": [
        "bank_df.duration.unique()"
      ],
      "metadata": {
        "id": "CWNJfZ8NGNd8",
        "colab": {
          "base_uri": "https://localhost:8080/"
        },
        "outputId": "4fd99a48-45cd-44c1-c190-7ef86bc90708"
      },
      "execution_count": 19,
      "outputs": [
        {
          "output_type": "execute_result",
          "data": {
            "text/plain": [
              "array([ 261,  149,  226, ..., 1246, 1556, 1868])"
            ]
          },
          "metadata": {},
          "execution_count": 19
        }
      ]
    },
    {
      "cell_type": "code",
      "source": [
        "bank_df.campaign.unique()"
      ],
      "metadata": {
        "id": "GY7AaJAhGRni",
        "colab": {
          "base_uri": "https://localhost:8080/"
        },
        "outputId": "ec9c121a-ff7e-48da-e3f6-f18db3ec1776"
      },
      "execution_count": 20,
      "outputs": [
        {
          "output_type": "execute_result",
          "data": {
            "text/plain": [
              "array([ 1,  2,  3,  4,  5,  6,  7,  8,  9, 10, 11, 12, 13, 19, 18, 23, 14,\n",
              "       22, 25, 16, 17, 15, 20, 56, 39, 35, 42, 28, 26, 27, 32, 21, 24, 29,\n",
              "       31, 30, 41, 37, 40, 33, 34, 43])"
            ]
          },
          "metadata": {},
          "execution_count": 20
        }
      ]
    },
    {
      "cell_type": "code",
      "source": [
        "bank_df.pdays.unique()"
      ],
      "metadata": {
        "id": "0pMByDLxG_0c",
        "colab": {
          "base_uri": "https://localhost:8080/"
        },
        "outputId": "73340066-28c4-4ef9-99ff-7afcb54fdda2"
      },
      "execution_count": 21,
      "outputs": [
        {
          "output_type": "execute_result",
          "data": {
            "text/plain": [
              "array([999,   6,   4,   3,   5,   1,   0,  10,   7,   8,   9,  11,   2,\n",
              "        12,  13,  14,  15,  16,  21,  17,  18,  22,  25,  26,  19,  27,\n",
              "        20])"
            ]
          },
          "metadata": {},
          "execution_count": 21
        }
      ]
    },
    {
      "cell_type": "code",
      "source": [
        "bank_df['cons.price.idx'].unique()"
      ],
      "metadata": {
        "id": "v4_Ta6zrGZ-D",
        "colab": {
          "base_uri": "https://localhost:8080/"
        },
        "outputId": "ce1fffd8-fa22-46f4-947a-4ee02e32fcc1"
      },
      "execution_count": 22,
      "outputs": [
        {
          "output_type": "execute_result",
          "data": {
            "text/plain": [
              "array([93.994, 94.465, 93.918, 93.444, 93.798, 93.2  , 92.756, 92.843,\n",
              "       93.075, 92.893, 92.963, 92.469, 92.201, 92.379, 92.431, 92.649,\n",
              "       92.713, 93.369, 93.749, 93.876, 94.055, 94.215, 94.027, 94.199,\n",
              "       94.601, 94.767])"
            ]
          },
          "metadata": {},
          "execution_count": 22
        }
      ]
    },
    {
      "cell_type": "code",
      "source": [
        "bank = bank_df.iloc[0:0, 10:14]\n",
        "bank"
      ],
      "metadata": {
        "id": "qgUEfsvdx1d7",
        "colab": {
          "base_uri": "https://localhost:8080/",
          "height": 49
        },
        "outputId": "02328b51-5fc8-4372-bcb8-7d440aacfb52"
      },
      "execution_count": 23,
      "outputs": [
        {
          "output_type": "execute_result",
          "data": {
            "text/plain": [
              "Empty DataFrame\n",
              "Columns: [y]\n",
              "Index: []"
            ],
            "text/html": [
              "\n",
              "  <div id=\"df-bd9add93-d265-4f52-bff4-ba3321731594\">\n",
              "    <div class=\"colab-df-container\">\n",
              "      <div>\n",
              "<style scoped>\n",
              "    .dataframe tbody tr th:only-of-type {\n",
              "        vertical-align: middle;\n",
              "    }\n",
              "\n",
              "    .dataframe tbody tr th {\n",
              "        vertical-align: top;\n",
              "    }\n",
              "\n",
              "    .dataframe thead th {\n",
              "        text-align: right;\n",
              "    }\n",
              "</style>\n",
              "<table border=\"1\" class=\"dataframe\">\n",
              "  <thead>\n",
              "    <tr style=\"text-align: right;\">\n",
              "      <th></th>\n",
              "      <th>y</th>\n",
              "    </tr>\n",
              "  </thead>\n",
              "  <tbody>\n",
              "  </tbody>\n",
              "</table>\n",
              "</div>\n",
              "      <button class=\"colab-df-convert\" onclick=\"convertToInteractive('df-bd9add93-d265-4f52-bff4-ba3321731594')\"\n",
              "              title=\"Convert this dataframe to an interactive table.\"\n",
              "              style=\"display:none;\">\n",
              "        \n",
              "  <svg xmlns=\"http://www.w3.org/2000/svg\" height=\"24px\"viewBox=\"0 0 24 24\"\n",
              "       width=\"24px\">\n",
              "    <path d=\"M0 0h24v24H0V0z\" fill=\"none\"/>\n",
              "    <path d=\"M18.56 5.44l.94 2.06.94-2.06 2.06-.94-2.06-.94-.94-2.06-.94 2.06-2.06.94zm-11 1L8.5 8.5l.94-2.06 2.06-.94-2.06-.94L8.5 2.5l-.94 2.06-2.06.94zm10 10l.94 2.06.94-2.06 2.06-.94-2.06-.94-.94-2.06-.94 2.06-2.06.94z\"/><path d=\"M17.41 7.96l-1.37-1.37c-.4-.4-.92-.59-1.43-.59-.52 0-1.04.2-1.43.59L10.3 9.45l-7.72 7.72c-.78.78-.78 2.05 0 2.83L4 21.41c.39.39.9.59 1.41.59.51 0 1.02-.2 1.41-.59l7.78-7.78 2.81-2.81c.8-.78.8-2.07 0-2.86zM5.41 20L4 18.59l7.72-7.72 1.47 1.35L5.41 20z\"/>\n",
              "  </svg>\n",
              "      </button>\n",
              "      \n",
              "  <style>\n",
              "    .colab-df-container {\n",
              "      display:flex;\n",
              "      flex-wrap:wrap;\n",
              "      gap: 12px;\n",
              "    }\n",
              "\n",
              "    .colab-df-convert {\n",
              "      background-color: #E8F0FE;\n",
              "      border: none;\n",
              "      border-radius: 50%;\n",
              "      cursor: pointer;\n",
              "      display: none;\n",
              "      fill: #1967D2;\n",
              "      height: 32px;\n",
              "      padding: 0 0 0 0;\n",
              "      width: 32px;\n",
              "    }\n",
              "\n",
              "    .colab-df-convert:hover {\n",
              "      background-color: #E2EBFA;\n",
              "      box-shadow: 0px 1px 2px rgba(60, 64, 67, 0.3), 0px 1px 3px 1px rgba(60, 64, 67, 0.15);\n",
              "      fill: #174EA6;\n",
              "    }\n",
              "\n",
              "    [theme=dark] .colab-df-convert {\n",
              "      background-color: #3B4455;\n",
              "      fill: #D2E3FC;\n",
              "    }\n",
              "\n",
              "    [theme=dark] .colab-df-convert:hover {\n",
              "      background-color: #434B5C;\n",
              "      box-shadow: 0px 1px 3px 1px rgba(0, 0, 0, 0.15);\n",
              "      filter: drop-shadow(0px 1px 2px rgba(0, 0, 0, 0.3));\n",
              "      fill: #FFFFFF;\n",
              "    }\n",
              "  </style>\n",
              "\n",
              "      <script>\n",
              "        const buttonEl =\n",
              "          document.querySelector('#df-bd9add93-d265-4f52-bff4-ba3321731594 button.colab-df-convert');\n",
              "        buttonEl.style.display =\n",
              "          google.colab.kernel.accessAllowed ? 'block' : 'none';\n",
              "\n",
              "        async function convertToInteractive(key) {\n",
              "          const element = document.querySelector('#df-bd9add93-d265-4f52-bff4-ba3321731594');\n",
              "          const dataTable =\n",
              "            await google.colab.kernel.invokeFunction('convertToInteractive',\n",
              "                                                     [key], {});\n",
              "          if (!dataTable) return;\n",
              "\n",
              "          const docLinkHtml = 'Like what you see? Visit the ' +\n",
              "            '<a target=\"_blank\" href=https://colab.research.google.com/notebooks/data_table.ipynb>data table notebook</a>'\n",
              "            + ' to learn more about interactive tables.';\n",
              "          element.innerHTML = '';\n",
              "          dataTable['output_type'] = 'display_data';\n",
              "          await google.colab.output.renderOutput(dataTable, element);\n",
              "          const docLink = document.createElement('div');\n",
              "          docLink.innerHTML = docLinkHtml;\n",
              "          element.appendChild(docLink);\n",
              "        }\n",
              "      </script>\n",
              "    </div>\n",
              "  </div>\n",
              "  "
            ]
          },
          "metadata": {},
          "execution_count": 23
        }
      ]
    },
    {
      "cell_type": "code",
      "source": [
        "param_y = bank_df.iloc[:, -1]\n",
        "#bank_df.iloc[:, -1]\n",
        "param_y = param_y.map(dict(yes=1, no=0))\n",
        "param_y"
      ],
      "metadata": {
        "id": "W1xk07QRt1oX",
        "colab": {
          "base_uri": "https://localhost:8080/"
        },
        "outputId": "2aed01cc-c659-4cf7-ad4d-fe69938f06b1"
      },
      "execution_count": 57,
      "outputs": [
        {
          "output_type": "execute_result",
          "data": {
            "text/plain": [
              "0        0\n",
              "1        0\n",
              "2        0\n",
              "3        0\n",
              "4        0\n",
              "        ..\n",
              "41183    1\n",
              "41184    0\n",
              "41185    0\n",
              "41186    1\n",
              "41187    0\n",
              "Name: y, Length: 41188, dtype: int64"
            ]
          },
          "metadata": {},
          "execution_count": 57
        }
      ]
    },
    {
      "cell_type": "code",
      "source": [
        "bank_df.iloc[:, :-1]"
      ],
      "metadata": {
        "id": "ZkEefdQ-uKUo",
        "colab": {
          "base_uri": "https://localhost:8080/",
          "height": 424
        },
        "outputId": "e9e1aaf1-5fc8-43f2-cbae-e3a9357abf02"
      },
      "execution_count": 25,
      "outputs": [
        {
          "output_type": "execute_result",
          "data": {
            "text/plain": [
              "       age  duration  campaign  pdays  previous  emp.var.rate  cons.price.idx  \\\n",
              "0       56       261         1    999         0           1.1          93.994   \n",
              "1       57       149         1    999         0           1.1          93.994   \n",
              "2       37       226         1    999         0           1.1          93.994   \n",
              "3       40       151         1    999         0           1.1          93.994   \n",
              "4       56       307         1    999         0           1.1          93.994   \n",
              "...    ...       ...       ...    ...       ...           ...             ...   \n",
              "41183   73       334         1    999         0          -1.1          94.767   \n",
              "41184   46       383         1    999         0          -1.1          94.767   \n",
              "41185   56       189         2    999         0          -1.1          94.767   \n",
              "41186   44       442         1    999         0          -1.1          94.767   \n",
              "41187   74       239         3    999         1          -1.1          94.767   \n",
              "\n",
              "       cons.conf.idx  euribor3m  nr.employed  \n",
              "0              -36.4      4.857       5191.0  \n",
              "1              -36.4      4.857       5191.0  \n",
              "2              -36.4      4.857       5191.0  \n",
              "3              -36.4      4.857       5191.0  \n",
              "4              -36.4      4.857       5191.0  \n",
              "...              ...        ...          ...  \n",
              "41183          -50.8      1.028       4963.6  \n",
              "41184          -50.8      1.028       4963.6  \n",
              "41185          -50.8      1.028       4963.6  \n",
              "41186          -50.8      1.028       4963.6  \n",
              "41187          -50.8      1.028       4963.6  \n",
              "\n",
              "[41188 rows x 10 columns]"
            ],
            "text/html": [
              "\n",
              "  <div id=\"df-bb6372a3-f892-4e56-aaf4-ffde82476740\">\n",
              "    <div class=\"colab-df-container\">\n",
              "      <div>\n",
              "<style scoped>\n",
              "    .dataframe tbody tr th:only-of-type {\n",
              "        vertical-align: middle;\n",
              "    }\n",
              "\n",
              "    .dataframe tbody tr th {\n",
              "        vertical-align: top;\n",
              "    }\n",
              "\n",
              "    .dataframe thead th {\n",
              "        text-align: right;\n",
              "    }\n",
              "</style>\n",
              "<table border=\"1\" class=\"dataframe\">\n",
              "  <thead>\n",
              "    <tr style=\"text-align: right;\">\n",
              "      <th></th>\n",
              "      <th>age</th>\n",
              "      <th>duration</th>\n",
              "      <th>campaign</th>\n",
              "      <th>pdays</th>\n",
              "      <th>previous</th>\n",
              "      <th>emp.var.rate</th>\n",
              "      <th>cons.price.idx</th>\n",
              "      <th>cons.conf.idx</th>\n",
              "      <th>euribor3m</th>\n",
              "      <th>nr.employed</th>\n",
              "    </tr>\n",
              "  </thead>\n",
              "  <tbody>\n",
              "    <tr>\n",
              "      <th>0</th>\n",
              "      <td>56</td>\n",
              "      <td>261</td>\n",
              "      <td>1</td>\n",
              "      <td>999</td>\n",
              "      <td>0</td>\n",
              "      <td>1.1</td>\n",
              "      <td>93.994</td>\n",
              "      <td>-36.4</td>\n",
              "      <td>4.857</td>\n",
              "      <td>5191.0</td>\n",
              "    </tr>\n",
              "    <tr>\n",
              "      <th>1</th>\n",
              "      <td>57</td>\n",
              "      <td>149</td>\n",
              "      <td>1</td>\n",
              "      <td>999</td>\n",
              "      <td>0</td>\n",
              "      <td>1.1</td>\n",
              "      <td>93.994</td>\n",
              "      <td>-36.4</td>\n",
              "      <td>4.857</td>\n",
              "      <td>5191.0</td>\n",
              "    </tr>\n",
              "    <tr>\n",
              "      <th>2</th>\n",
              "      <td>37</td>\n",
              "      <td>226</td>\n",
              "      <td>1</td>\n",
              "      <td>999</td>\n",
              "      <td>0</td>\n",
              "      <td>1.1</td>\n",
              "      <td>93.994</td>\n",
              "      <td>-36.4</td>\n",
              "      <td>4.857</td>\n",
              "      <td>5191.0</td>\n",
              "    </tr>\n",
              "    <tr>\n",
              "      <th>3</th>\n",
              "      <td>40</td>\n",
              "      <td>151</td>\n",
              "      <td>1</td>\n",
              "      <td>999</td>\n",
              "      <td>0</td>\n",
              "      <td>1.1</td>\n",
              "      <td>93.994</td>\n",
              "      <td>-36.4</td>\n",
              "      <td>4.857</td>\n",
              "      <td>5191.0</td>\n",
              "    </tr>\n",
              "    <tr>\n",
              "      <th>4</th>\n",
              "      <td>56</td>\n",
              "      <td>307</td>\n",
              "      <td>1</td>\n",
              "      <td>999</td>\n",
              "      <td>0</td>\n",
              "      <td>1.1</td>\n",
              "      <td>93.994</td>\n",
              "      <td>-36.4</td>\n",
              "      <td>4.857</td>\n",
              "      <td>5191.0</td>\n",
              "    </tr>\n",
              "    <tr>\n",
              "      <th>...</th>\n",
              "      <td>...</td>\n",
              "      <td>...</td>\n",
              "      <td>...</td>\n",
              "      <td>...</td>\n",
              "      <td>...</td>\n",
              "      <td>...</td>\n",
              "      <td>...</td>\n",
              "      <td>...</td>\n",
              "      <td>...</td>\n",
              "      <td>...</td>\n",
              "    </tr>\n",
              "    <tr>\n",
              "      <th>41183</th>\n",
              "      <td>73</td>\n",
              "      <td>334</td>\n",
              "      <td>1</td>\n",
              "      <td>999</td>\n",
              "      <td>0</td>\n",
              "      <td>-1.1</td>\n",
              "      <td>94.767</td>\n",
              "      <td>-50.8</td>\n",
              "      <td>1.028</td>\n",
              "      <td>4963.6</td>\n",
              "    </tr>\n",
              "    <tr>\n",
              "      <th>41184</th>\n",
              "      <td>46</td>\n",
              "      <td>383</td>\n",
              "      <td>1</td>\n",
              "      <td>999</td>\n",
              "      <td>0</td>\n",
              "      <td>-1.1</td>\n",
              "      <td>94.767</td>\n",
              "      <td>-50.8</td>\n",
              "      <td>1.028</td>\n",
              "      <td>4963.6</td>\n",
              "    </tr>\n",
              "    <tr>\n",
              "      <th>41185</th>\n",
              "      <td>56</td>\n",
              "      <td>189</td>\n",
              "      <td>2</td>\n",
              "      <td>999</td>\n",
              "      <td>0</td>\n",
              "      <td>-1.1</td>\n",
              "      <td>94.767</td>\n",
              "      <td>-50.8</td>\n",
              "      <td>1.028</td>\n",
              "      <td>4963.6</td>\n",
              "    </tr>\n",
              "    <tr>\n",
              "      <th>41186</th>\n",
              "      <td>44</td>\n",
              "      <td>442</td>\n",
              "      <td>1</td>\n",
              "      <td>999</td>\n",
              "      <td>0</td>\n",
              "      <td>-1.1</td>\n",
              "      <td>94.767</td>\n",
              "      <td>-50.8</td>\n",
              "      <td>1.028</td>\n",
              "      <td>4963.6</td>\n",
              "    </tr>\n",
              "    <tr>\n",
              "      <th>41187</th>\n",
              "      <td>74</td>\n",
              "      <td>239</td>\n",
              "      <td>3</td>\n",
              "      <td>999</td>\n",
              "      <td>1</td>\n",
              "      <td>-1.1</td>\n",
              "      <td>94.767</td>\n",
              "      <td>-50.8</td>\n",
              "      <td>1.028</td>\n",
              "      <td>4963.6</td>\n",
              "    </tr>\n",
              "  </tbody>\n",
              "</table>\n",
              "<p>41188 rows × 10 columns</p>\n",
              "</div>\n",
              "      <button class=\"colab-df-convert\" onclick=\"convertToInteractive('df-bb6372a3-f892-4e56-aaf4-ffde82476740')\"\n",
              "              title=\"Convert this dataframe to an interactive table.\"\n",
              "              style=\"display:none;\">\n",
              "        \n",
              "  <svg xmlns=\"http://www.w3.org/2000/svg\" height=\"24px\"viewBox=\"0 0 24 24\"\n",
              "       width=\"24px\">\n",
              "    <path d=\"M0 0h24v24H0V0z\" fill=\"none\"/>\n",
              "    <path d=\"M18.56 5.44l.94 2.06.94-2.06 2.06-.94-2.06-.94-.94-2.06-.94 2.06-2.06.94zm-11 1L8.5 8.5l.94-2.06 2.06-.94-2.06-.94L8.5 2.5l-.94 2.06-2.06.94zm10 10l.94 2.06.94-2.06 2.06-.94-2.06-.94-.94-2.06-.94 2.06-2.06.94z\"/><path d=\"M17.41 7.96l-1.37-1.37c-.4-.4-.92-.59-1.43-.59-.52 0-1.04.2-1.43.59L10.3 9.45l-7.72 7.72c-.78.78-.78 2.05 0 2.83L4 21.41c.39.39.9.59 1.41.59.51 0 1.02-.2 1.41-.59l7.78-7.78 2.81-2.81c.8-.78.8-2.07 0-2.86zM5.41 20L4 18.59l7.72-7.72 1.47 1.35L5.41 20z\"/>\n",
              "  </svg>\n",
              "      </button>\n",
              "      \n",
              "  <style>\n",
              "    .colab-df-container {\n",
              "      display:flex;\n",
              "      flex-wrap:wrap;\n",
              "      gap: 12px;\n",
              "    }\n",
              "\n",
              "    .colab-df-convert {\n",
              "      background-color: #E8F0FE;\n",
              "      border: none;\n",
              "      border-radius: 50%;\n",
              "      cursor: pointer;\n",
              "      display: none;\n",
              "      fill: #1967D2;\n",
              "      height: 32px;\n",
              "      padding: 0 0 0 0;\n",
              "      width: 32px;\n",
              "    }\n",
              "\n",
              "    .colab-df-convert:hover {\n",
              "      background-color: #E2EBFA;\n",
              "      box-shadow: 0px 1px 2px rgba(60, 64, 67, 0.3), 0px 1px 3px 1px rgba(60, 64, 67, 0.15);\n",
              "      fill: #174EA6;\n",
              "    }\n",
              "\n",
              "    [theme=dark] .colab-df-convert {\n",
              "      background-color: #3B4455;\n",
              "      fill: #D2E3FC;\n",
              "    }\n",
              "\n",
              "    [theme=dark] .colab-df-convert:hover {\n",
              "      background-color: #434B5C;\n",
              "      box-shadow: 0px 1px 3px 1px rgba(0, 0, 0, 0.15);\n",
              "      filter: drop-shadow(0px 1px 2px rgba(0, 0, 0, 0.3));\n",
              "      fill: #FFFFFF;\n",
              "    }\n",
              "  </style>\n",
              "\n",
              "      <script>\n",
              "        const buttonEl =\n",
              "          document.querySelector('#df-bb6372a3-f892-4e56-aaf4-ffde82476740 button.colab-df-convert');\n",
              "        buttonEl.style.display =\n",
              "          google.colab.kernel.accessAllowed ? 'block' : 'none';\n",
              "\n",
              "        async function convertToInteractive(key) {\n",
              "          const element = document.querySelector('#df-bb6372a3-f892-4e56-aaf4-ffde82476740');\n",
              "          const dataTable =\n",
              "            await google.colab.kernel.invokeFunction('convertToInteractive',\n",
              "                                                     [key], {});\n",
              "          if (!dataTable) return;\n",
              "\n",
              "          const docLinkHtml = 'Like what you see? Visit the ' +\n",
              "            '<a target=\"_blank\" href=https://colab.research.google.com/notebooks/data_table.ipynb>data table notebook</a>'\n",
              "            + ' to learn more about interactive tables.';\n",
              "          element.innerHTML = '';\n",
              "          dataTable['output_type'] = 'display_data';\n",
              "          await google.colab.output.renderOutput(dataTable, element);\n",
              "          const docLink = document.createElement('div');\n",
              "          docLink.innerHTML = docLinkHtml;\n",
              "          element.appendChild(docLink);\n",
              "        }\n",
              "      </script>\n",
              "    </div>\n",
              "  </div>\n",
              "  "
            ]
          },
          "metadata": {},
          "execution_count": 25
        }
      ]
    },
    {
      "cell_type": "code",
      "source": [
        "x = bank_df.iloc[:, :-1]\n",
        "y = bank_df.iloc[:, -1]\n",
        "x"
      ],
      "metadata": {
        "id": "gBytMFCCuhTQ",
        "colab": {
          "base_uri": "https://localhost:8080/",
          "height": 424
        },
        "outputId": "06ddd812-ffbe-43c7-d175-0dc74ff8c123"
      },
      "execution_count": 56,
      "outputs": [
        {
          "output_type": "execute_result",
          "data": {
            "text/plain": [
              "       age  duration  campaign  pdays  previous  emp.var.rate  cons.price.idx  \\\n",
              "0       56       261         1    999         0           1.1          93.994   \n",
              "1       57       149         1    999         0           1.1          93.994   \n",
              "2       37       226         1    999         0           1.1          93.994   \n",
              "3       40       151         1    999         0           1.1          93.994   \n",
              "4       56       307         1    999         0           1.1          93.994   \n",
              "...    ...       ...       ...    ...       ...           ...             ...   \n",
              "41183   73       334         1    999         0          -1.1          94.767   \n",
              "41184   46       383         1    999         0          -1.1          94.767   \n",
              "41185   56       189         2    999         0          -1.1          94.767   \n",
              "41186   44       442         1    999         0          -1.1          94.767   \n",
              "41187   74       239         3    999         1          -1.1          94.767   \n",
              "\n",
              "       cons.conf.idx  euribor3m  nr.employed  \n",
              "0              -36.4      4.857       5191.0  \n",
              "1              -36.4      4.857       5191.0  \n",
              "2              -36.4      4.857       5191.0  \n",
              "3              -36.4      4.857       5191.0  \n",
              "4              -36.4      4.857       5191.0  \n",
              "...              ...        ...          ...  \n",
              "41183          -50.8      1.028       4963.6  \n",
              "41184          -50.8      1.028       4963.6  \n",
              "41185          -50.8      1.028       4963.6  \n",
              "41186          -50.8      1.028       4963.6  \n",
              "41187          -50.8      1.028       4963.6  \n",
              "\n",
              "[41188 rows x 10 columns]"
            ],
            "text/html": [
              "\n",
              "  <div id=\"df-9672fa7d-8ddb-41f0-b709-1520fa280011\">\n",
              "    <div class=\"colab-df-container\">\n",
              "      <div>\n",
              "<style scoped>\n",
              "    .dataframe tbody tr th:only-of-type {\n",
              "        vertical-align: middle;\n",
              "    }\n",
              "\n",
              "    .dataframe tbody tr th {\n",
              "        vertical-align: top;\n",
              "    }\n",
              "\n",
              "    .dataframe thead th {\n",
              "        text-align: right;\n",
              "    }\n",
              "</style>\n",
              "<table border=\"1\" class=\"dataframe\">\n",
              "  <thead>\n",
              "    <tr style=\"text-align: right;\">\n",
              "      <th></th>\n",
              "      <th>age</th>\n",
              "      <th>duration</th>\n",
              "      <th>campaign</th>\n",
              "      <th>pdays</th>\n",
              "      <th>previous</th>\n",
              "      <th>emp.var.rate</th>\n",
              "      <th>cons.price.idx</th>\n",
              "      <th>cons.conf.idx</th>\n",
              "      <th>euribor3m</th>\n",
              "      <th>nr.employed</th>\n",
              "    </tr>\n",
              "  </thead>\n",
              "  <tbody>\n",
              "    <tr>\n",
              "      <th>0</th>\n",
              "      <td>56</td>\n",
              "      <td>261</td>\n",
              "      <td>1</td>\n",
              "      <td>999</td>\n",
              "      <td>0</td>\n",
              "      <td>1.1</td>\n",
              "      <td>93.994</td>\n",
              "      <td>-36.4</td>\n",
              "      <td>4.857</td>\n",
              "      <td>5191.0</td>\n",
              "    </tr>\n",
              "    <tr>\n",
              "      <th>1</th>\n",
              "      <td>57</td>\n",
              "      <td>149</td>\n",
              "      <td>1</td>\n",
              "      <td>999</td>\n",
              "      <td>0</td>\n",
              "      <td>1.1</td>\n",
              "      <td>93.994</td>\n",
              "      <td>-36.4</td>\n",
              "      <td>4.857</td>\n",
              "      <td>5191.0</td>\n",
              "    </tr>\n",
              "    <tr>\n",
              "      <th>2</th>\n",
              "      <td>37</td>\n",
              "      <td>226</td>\n",
              "      <td>1</td>\n",
              "      <td>999</td>\n",
              "      <td>0</td>\n",
              "      <td>1.1</td>\n",
              "      <td>93.994</td>\n",
              "      <td>-36.4</td>\n",
              "      <td>4.857</td>\n",
              "      <td>5191.0</td>\n",
              "    </tr>\n",
              "    <tr>\n",
              "      <th>3</th>\n",
              "      <td>40</td>\n",
              "      <td>151</td>\n",
              "      <td>1</td>\n",
              "      <td>999</td>\n",
              "      <td>0</td>\n",
              "      <td>1.1</td>\n",
              "      <td>93.994</td>\n",
              "      <td>-36.4</td>\n",
              "      <td>4.857</td>\n",
              "      <td>5191.0</td>\n",
              "    </tr>\n",
              "    <tr>\n",
              "      <th>4</th>\n",
              "      <td>56</td>\n",
              "      <td>307</td>\n",
              "      <td>1</td>\n",
              "      <td>999</td>\n",
              "      <td>0</td>\n",
              "      <td>1.1</td>\n",
              "      <td>93.994</td>\n",
              "      <td>-36.4</td>\n",
              "      <td>4.857</td>\n",
              "      <td>5191.0</td>\n",
              "    </tr>\n",
              "    <tr>\n",
              "      <th>...</th>\n",
              "      <td>...</td>\n",
              "      <td>...</td>\n",
              "      <td>...</td>\n",
              "      <td>...</td>\n",
              "      <td>...</td>\n",
              "      <td>...</td>\n",
              "      <td>...</td>\n",
              "      <td>...</td>\n",
              "      <td>...</td>\n",
              "      <td>...</td>\n",
              "    </tr>\n",
              "    <tr>\n",
              "      <th>41183</th>\n",
              "      <td>73</td>\n",
              "      <td>334</td>\n",
              "      <td>1</td>\n",
              "      <td>999</td>\n",
              "      <td>0</td>\n",
              "      <td>-1.1</td>\n",
              "      <td>94.767</td>\n",
              "      <td>-50.8</td>\n",
              "      <td>1.028</td>\n",
              "      <td>4963.6</td>\n",
              "    </tr>\n",
              "    <tr>\n",
              "      <th>41184</th>\n",
              "      <td>46</td>\n",
              "      <td>383</td>\n",
              "      <td>1</td>\n",
              "      <td>999</td>\n",
              "      <td>0</td>\n",
              "      <td>-1.1</td>\n",
              "      <td>94.767</td>\n",
              "      <td>-50.8</td>\n",
              "      <td>1.028</td>\n",
              "      <td>4963.6</td>\n",
              "    </tr>\n",
              "    <tr>\n",
              "      <th>41185</th>\n",
              "      <td>56</td>\n",
              "      <td>189</td>\n",
              "      <td>2</td>\n",
              "      <td>999</td>\n",
              "      <td>0</td>\n",
              "      <td>-1.1</td>\n",
              "      <td>94.767</td>\n",
              "      <td>-50.8</td>\n",
              "      <td>1.028</td>\n",
              "      <td>4963.6</td>\n",
              "    </tr>\n",
              "    <tr>\n",
              "      <th>41186</th>\n",
              "      <td>44</td>\n",
              "      <td>442</td>\n",
              "      <td>1</td>\n",
              "      <td>999</td>\n",
              "      <td>0</td>\n",
              "      <td>-1.1</td>\n",
              "      <td>94.767</td>\n",
              "      <td>-50.8</td>\n",
              "      <td>1.028</td>\n",
              "      <td>4963.6</td>\n",
              "    </tr>\n",
              "    <tr>\n",
              "      <th>41187</th>\n",
              "      <td>74</td>\n",
              "      <td>239</td>\n",
              "      <td>3</td>\n",
              "      <td>999</td>\n",
              "      <td>1</td>\n",
              "      <td>-1.1</td>\n",
              "      <td>94.767</td>\n",
              "      <td>-50.8</td>\n",
              "      <td>1.028</td>\n",
              "      <td>4963.6</td>\n",
              "    </tr>\n",
              "  </tbody>\n",
              "</table>\n",
              "<p>41188 rows × 10 columns</p>\n",
              "</div>\n",
              "      <button class=\"colab-df-convert\" onclick=\"convertToInteractive('df-9672fa7d-8ddb-41f0-b709-1520fa280011')\"\n",
              "              title=\"Convert this dataframe to an interactive table.\"\n",
              "              style=\"display:none;\">\n",
              "        \n",
              "  <svg xmlns=\"http://www.w3.org/2000/svg\" height=\"24px\"viewBox=\"0 0 24 24\"\n",
              "       width=\"24px\">\n",
              "    <path d=\"M0 0h24v24H0V0z\" fill=\"none\"/>\n",
              "    <path d=\"M18.56 5.44l.94 2.06.94-2.06 2.06-.94-2.06-.94-.94-2.06-.94 2.06-2.06.94zm-11 1L8.5 8.5l.94-2.06 2.06-.94-2.06-.94L8.5 2.5l-.94 2.06-2.06.94zm10 10l.94 2.06.94-2.06 2.06-.94-2.06-.94-.94-2.06-.94 2.06-2.06.94z\"/><path d=\"M17.41 7.96l-1.37-1.37c-.4-.4-.92-.59-1.43-.59-.52 0-1.04.2-1.43.59L10.3 9.45l-7.72 7.72c-.78.78-.78 2.05 0 2.83L4 21.41c.39.39.9.59 1.41.59.51 0 1.02-.2 1.41-.59l7.78-7.78 2.81-2.81c.8-.78.8-2.07 0-2.86zM5.41 20L4 18.59l7.72-7.72 1.47 1.35L5.41 20z\"/>\n",
              "  </svg>\n",
              "      </button>\n",
              "      \n",
              "  <style>\n",
              "    .colab-df-container {\n",
              "      display:flex;\n",
              "      flex-wrap:wrap;\n",
              "      gap: 12px;\n",
              "    }\n",
              "\n",
              "    .colab-df-convert {\n",
              "      background-color: #E8F0FE;\n",
              "      border: none;\n",
              "      border-radius: 50%;\n",
              "      cursor: pointer;\n",
              "      display: none;\n",
              "      fill: #1967D2;\n",
              "      height: 32px;\n",
              "      padding: 0 0 0 0;\n",
              "      width: 32px;\n",
              "    }\n",
              "\n",
              "    .colab-df-convert:hover {\n",
              "      background-color: #E2EBFA;\n",
              "      box-shadow: 0px 1px 2px rgba(60, 64, 67, 0.3), 0px 1px 3px 1px rgba(60, 64, 67, 0.15);\n",
              "      fill: #174EA6;\n",
              "    }\n",
              "\n",
              "    [theme=dark] .colab-df-convert {\n",
              "      background-color: #3B4455;\n",
              "      fill: #D2E3FC;\n",
              "    }\n",
              "\n",
              "    [theme=dark] .colab-df-convert:hover {\n",
              "      background-color: #434B5C;\n",
              "      box-shadow: 0px 1px 3px 1px rgba(0, 0, 0, 0.15);\n",
              "      filter: drop-shadow(0px 1px 2px rgba(0, 0, 0, 0.3));\n",
              "      fill: #FFFFFF;\n",
              "    }\n",
              "  </style>\n",
              "\n",
              "      <script>\n",
              "        const buttonEl =\n",
              "          document.querySelector('#df-9672fa7d-8ddb-41f0-b709-1520fa280011 button.colab-df-convert');\n",
              "        buttonEl.style.display =\n",
              "          google.colab.kernel.accessAllowed ? 'block' : 'none';\n",
              "\n",
              "        async function convertToInteractive(key) {\n",
              "          const element = document.querySelector('#df-9672fa7d-8ddb-41f0-b709-1520fa280011');\n",
              "          const dataTable =\n",
              "            await google.colab.kernel.invokeFunction('convertToInteractive',\n",
              "                                                     [key], {});\n",
              "          if (!dataTable) return;\n",
              "\n",
              "          const docLinkHtml = 'Like what you see? Visit the ' +\n",
              "            '<a target=\"_blank\" href=https://colab.research.google.com/notebooks/data_table.ipynb>data table notebook</a>'\n",
              "            + ' to learn more about interactive tables.';\n",
              "          element.innerHTML = '';\n",
              "          dataTable['output_type'] = 'display_data';\n",
              "          await google.colab.output.renderOutput(dataTable, element);\n",
              "          const docLink = document.createElement('div');\n",
              "          docLink.innerHTML = docLinkHtml;\n",
              "          element.appendChild(docLink);\n",
              "        }\n",
              "      </script>\n",
              "    </div>\n",
              "  </div>\n",
              "  "
            ]
          },
          "metadata": {},
          "execution_count": 56
        }
      ]
    },
    {
      "cell_type": "markdown",
      "source": [
        "Linear Regression"
      ],
      "metadata": {
        "id": "0tWIUXAgiWFa"
      }
    },
    {
      "cell_type": "code",
      "source": [
        "datas = bank_df['age']\n",
        "#bank_df.plot(kind='scatter', x='previous', y='age')\n",
        "plt.scatter(datas, param_y, c='r')"
      ],
      "metadata": {
        "id": "5BBX5mi_iUYE",
        "colab": {
          "base_uri": "https://localhost:8080/",
          "height": 285
        },
        "outputId": "588010e3-962f-4803-b664-8fc377ef1f42"
      },
      "execution_count": 59,
      "outputs": [
        {
          "output_type": "execute_result",
          "data": {
            "text/plain": [
              "<matplotlib.collections.PathCollection at 0x7f8d95f427d0>"
            ]
          },
          "metadata": {},
          "execution_count": 59
        },
        {
          "output_type": "display_data",
          "data": {
            "text/plain": [
              "<Figure size 432x288 with 1 Axes>"
            ],
            "image/png": "[encoded data removed]"
          },
          "metadata": {}
        }
      ]
    },
    {
      "cell_type": "code",
      "source": [
        "l_x = x.age.array.reshape(-1, 1)\n",
        "l_y = param_y\n",
        "lm = LinearRegression()\n",
        "lm.fit(l_x, l_y)"
      ],
      "metadata": {
        "id": "q1mAfFKA8MNn",
        "colab": {
          "base_uri": "https://localhost:8080/"
        },
        "outputId": "993dc481-acd1-4481-fd5b-f30f7f75017c"
      },
      "execution_count": 89,
      "outputs": [
        {
          "output_type": "execute_result",
          "data": {
            "text/plain": [
              "LinearRegression()"
            ]
          },
          "metadata": {},
          "execution_count": 89
        }
      ]
    },
    {
      "cell_type": "code",
      "source": [
        "z = np.linspace(0, 100, 1000)\n",
        "z_predict = lm.intercept_ + (lm.coef_ * z)"
      ],
      "metadata": {
        "id": "7CZcrHAw-MBQ"
      },
      "execution_count": 90,
      "outputs": []
    },
    {
      "cell_type": "code",
      "source": [
        "plt.figure(figsize=(10,6))\n",
        "plt.scatter(l_x, param_y, c='r')\n",
        "plt.plot(z, z_predict)\n",
        "plt.ylabel('y')\n",
        "plt.xlabel(\"age\")\n",
        "plt.show()"
      ],
      "metadata": {
        "id": "Io1yPOv3-RTt",
        "colab": {
          "base_uri": "https://localhost:8080/",
          "height": 394
        },
        "outputId": "d938893d-e228-4b70-b10b-20e4a1b488dc"
      },
      "execution_count": 91,
      "outputs": [
        {
          "output_type": "display_data",
          "data": {
            "text/plain": [
              "<Figure size 720x432 with 1 Axes>"
            ],
            "image/png": "[encoded data removed]"
          },
          "metadata": {}
        }
      ]
    },
    {
      "cell_type": "code",
      "source": [
        "datas = bank_df['duration']\n",
        "plt.scatter(datas, param_y, c='r')"
      ],
      "metadata": {
        "id": "WPfpRP4I7XAC",
        "colab": {
          "base_uri": "https://localhost:8080/",
          "height": 285
        },
        "outputId": "f2184855-1b41-4c76-ac63-ce81b603b9af"
      },
      "execution_count": 115,
      "outputs": [
        {
          "output_type": "execute_result",
          "data": {
            "text/plain": [
              "<matplotlib.collections.PathCollection at 0x7f8d8f9371d0>"
            ]
          },
          "metadata": {},
          "execution_count": 115
        },
        {
          "output_type": "display_data",
          "data": {
            "text/plain": [
              "<Figure size 432x288 with 1 Axes>"
            ],
            "image/png": "[encoded data removed]"
          },
          "metadata": {}
        }
      ]
    },
    {
      "cell_type": "code",
      "source": [
        "l_x = x.duration.array.reshape(-1, 1)\n",
        "l_y = param_y\n",
        "lm = LinearRegression()\n",
        "lm.fit(l_x, l_y)"
      ],
      "metadata": {
        "id": "MWIlnREI_F61",
        "colab": {
          "base_uri": "https://localhost:8080/"
        },
        "outputId": "a5f610de-3be0-4949-ccbd-7eceaaad8f95"
      },
      "execution_count": 93,
      "outputs": [
        {
          "output_type": "execute_result",
          "data": {
            "text/plain": [
              "LinearRegression()"
            ]
          },
          "metadata": {},
          "execution_count": 93
        }
      ]
    },
    {
      "cell_type": "code",
      "source": [
        "z = np.linspace(0, 5000, 1000)\n",
        "z_predict = lm.intercept_ + (lm.coef_ * z)"
      ],
      "metadata": {
        "id": "Wcg8gtTn1taS"
      },
      "execution_count": 114,
      "outputs": []
    },
    {
      "cell_type": "code",
      "source": [
        "plt.figure(figsize=(10,6))\n",
        "plt.scatter(l_x, l_y, c='r')\n",
        "plt.plot(z, z_predict)\n",
        "plt.ylabel('y')\n",
        "plt.xlabel(\"duration\")\n",
        "plt.show()"
      ],
      "metadata": {
        "id": "14n97WPX_PHB",
        "colab": {
          "base_uri": "https://localhost:8080/",
          "height": 394
        },
        "outputId": "6509adf7-488c-45e2-d1b0-86419538251a"
      },
      "execution_count": 113,
      "outputs": [
        {
          "output_type": "display_data",
          "data": {
            "text/plain": [
              "<Figure size 720x432 with 1 Axes>"
            ],
            "image/png": "[encoded data removed]"
          },
          "metadata": {}
        }
      ]
    },
    {
      "cell_type": "markdown",
      "source": [
        "Univariate"
      ],
      "metadata": {
        "id": "bYBNKG4RiNIb"
      }
    },
    {
      "cell_type": "code",
      "source": [
        "f,axes=plt.subplots(ncols=2,figsize=(10,5),sharex=True)\n",
        "sns.boxplot(x = bank_df.loc[:,'age'], ax=axes[0], color='powderblue')\n",
        "sns.histplot(data= bank_df.loc[:,'age'], color=\"red\", kde=True, stat=\"density\", linewidth=0, ax=axes[1])  \n",
        "plt.tight_layout()"
      ],
      "metadata": {
        "id": "Q7CCSQ1LWij_",
        "colab": {
          "base_uri": "https://localhost:8080/",
          "height": 365
        },
        "outputId": "b8c2f228-7480-4d2a-9351-72e087067278"
      },
      "execution_count": 96,
      "outputs": [
        {
          "output_type": "display_data",
          "data": {
            "text/plain": [
              "<Figure size 720x360 with 2 Axes>"
            ],
            "image/png": "[encoded data removed]"
          },
          "metadata": {}
        }
      ]
    },
    {
      "cell_type": "code",
      "source": [
        "f,axes=plt.subplots(ncols=2,figsize=(10,5),sharex=True)\n",
        "sns.boxplot(x = bank_df.loc[:,'duration'], ax=axes[0], color='powderblue')\n",
        "sns.histplot(data= bank_df.loc[:,'duration'], color=\"red\", kde=True, stat=\"density\", linewidth=0, ax=axes[1])  \n",
        "plt.tight_layout()"
      ],
      "metadata": {
        "id": "_XerIdUQXv4g",
        "colab": {
          "base_uri": "https://localhost:8080/",
          "height": 365
        },
        "outputId": "38f4fb69-2492-4222-a894-84fbd6adbd2c"
      },
      "execution_count": 97,
      "outputs": [
        {
          "output_type": "display_data",
          "data": {
            "text/plain": [
              "<Figure size 720x360 with 2 Axes>"
            ],
            "image/png": "[encoded data removed]"
          },
          "metadata": {}
        }
      ]
    },
    {
      "cell_type": "code",
      "source": [
        "f,axes=plt.subplots(ncols=2,figsize=(10,5),sharex=True)\n",
        "sns.boxplot(x = bank_df.loc[:,'pdays'], ax=axes[0], color='powderblue')\n",
        "sns.histplot(data= bank_df.loc[:,'pdays'], color=\"red\", kde=True, stat=\"density\", linewidth=0, ax=axes[1])  \n",
        "plt.tight_layout()"
      ],
      "metadata": {
        "id": "A0xcwH4VVbfw",
        "colab": {
          "base_uri": "https://localhost:8080/",
          "height": 365
        },
        "outputId": "59857b05-b638-44a9-dc9d-ab430f263db5"
      },
      "execution_count": 98,
      "outputs": [
        {
          "output_type": "display_data",
          "data": {
            "text/plain": [
              "<Figure size 720x360 with 2 Axes>"
            ],
            "image/png": "[encoded data removed]"
          },
          "metadata": {}
        }
      ]
    },
    {
      "cell_type": "markdown",
      "source": [
        "Bivariate"
      ],
      "metadata": {
        "id": "8-H1sgjhcVyP"
      }
    },
    {
      "cell_type": "code",
      "source": [
        "f, axes = plt.subplots(ncols = 1,figsize=(7, 7), sharex=True)\n",
        "sns.despine(left=True)  #sepal_length-vs-class\n",
        "\n",
        "# Ploting the histogram with KDE\n",
        "\n",
        "sns.histplot(data=age_y[\"age\"],label=\"age-yes\",color='b',kde=True,linewidth=2,alpha=0.3)\n",
        "sns.histplot(data=age_n[\"age\"],label=\"age-no\",kde=True,color='orange',linewidth=2,alpha=0.3)\n",
        "\n",
        "plt.legend()\n",
        "plt.tight_layout()"
      ],
      "metadata": {
        "id": "IBnLr2lzcU2b",
        "colab": {
          "base_uri": "https://localhost:8080/",
          "height": 509
        },
        "outputId": "0f7d17eb-dd1e-4988-e0f1-2bb761744f16"
      },
      "execution_count": 99,
      "outputs": [
        {
          "output_type": "display_data",
          "data": {
            "text/plain": [
              "<Figure size 504x504 with 1 Axes>"
            ],
            "image/png": "[encoded data removed]"
          },
          "metadata": {}
        }
      ]
    },
    {
      "cell_type": "code",
      "source": [
        "f, axes = plt.subplots(ncols = 1,figsize=(7, 7), sharex=True)\n",
        "sns.despine(left=True)  #sepal_length-vs-class\n",
        "\n",
        "# Ploting the histogram with KDE\n",
        "\n",
        "sns.histplot(data=age_y[\"duration\"],label=\"duration-yes\",color='b',kde=True,linewidth=2,alpha=0.3)\n",
        "sns.histplot(data=age_n[\"duration\"],label=\"duration-no\",kde=True,color='orange',linewidth=2,alpha=0.3)\n",
        "\n",
        "plt.legend()\n",
        "plt.tight_layout()"
      ],
      "metadata": {
        "id": "fozCMgK8dc6j",
        "colab": {
          "base_uri": "https://localhost:8080/",
          "height": 509
        },
        "outputId": "042e11c8-724f-4413-d4ee-280c1a4d2b5c"
      },
      "execution_count": 100,
      "outputs": [
        {
          "output_type": "display_data",
          "data": {
            "text/plain": [
              "<Figure size 504x504 with 1 Axes>"
            ],
            "image/png": "[encoded data removed]"
          },
          "metadata": {}
        }
      ]
    },
    {
      "cell_type": "code",
      "source": [
        "f, axes = plt.subplots(ncols = 1,figsize=(7, 7), sharex=True)\n",
        "sns.despine(left=True)  #sepal_length-vs-class\n",
        "\n",
        "# Ploting the histogram with KDE\n",
        "\n",
        "sns.histplot(data=age_y[\"euribor3m\"],label=\"campaign-yes\",color='b',kde=True,linewidth=2,alpha=0.3)\n",
        "sns.histplot(data=age_n[\"euribor3m\"],label=\"campaign-no\",kde=True,color='orange',linewidth=2,alpha=0.3)\n",
        "\n",
        "plt.legend()\n",
        "plt.tight_layout()"
      ],
      "metadata": {
        "id": "f_V8-FrmeR_y",
        "colab": {
          "base_uri": "https://localhost:8080/",
          "height": 509
        },
        "outputId": "8faf9d63-7bba-4b2e-9437-759fffd1f273"
      },
      "execution_count": 106,
      "outputs": [
        {
          "output_type": "display_data",
          "data": {
            "text/plain": [
              "<Figure size 504x504 with 1 Axes>"
            ],
            "image/png": "[encoded data removed]"
          },
          "metadata": {}
        }
      ]
    },
    {
      "cell_type": "code",
      "source": [
        "tes = x.iloc[3000:3005]\n",
        "tes\n",
        "#y[3000:3005]"
      ],
      "metadata": {
        "id": "aki1BR54Ab85",
        "colab": {
          "base_uri": "https://localhost:8080/",
          "height": 206
        },
        "outputId": "781c6652-af0f-4120-f703-01f71546cecd"
      },
      "execution_count": 40,
      "outputs": [
        {
          "output_type": "execute_result",
          "data": {
            "text/plain": [
              "      age  duration  campaign  pdays  previous  emp.var.rate  cons.price.idx  \\\n",
              "3000   35       402         1    999         0           1.1          93.994   \n",
              "3001   54       252         2    999         0           1.1          93.994   \n",
              "3002   36       360         2    999         0           1.1          93.994   \n",
              "3003   26       852         2    999         0           1.1          93.994   \n",
              "3004   27       241         2    999         0           1.1          93.994   \n",
              "\n",
              "      cons.conf.idx  euribor3m  nr.employed  \n",
              "3000          -36.4      4.859       5191.0  \n",
              "3001          -36.4      4.859       5191.0  \n",
              "3002          -36.4      4.859       5191.0  \n",
              "3003          -36.4      4.859       5191.0  \n",
              "3004          -36.4      4.859       5191.0  "
            ],
            "text/html": [
              "\n",
              "  <div id=\"df-49d3a239-0027-4cb9-9fd0-14e32e5fc46b\">\n",
              "    <div class=\"colab-df-container\">\n",
              "      <div>\n",
              "<style scoped>\n",
              "    .dataframe tbody tr th:only-of-type {\n",
              "        vertical-align: middle;\n",
              "    }\n",
              "\n",
              "    .dataframe tbody tr th {\n",
              "        vertical-align: top;\n",
              "    }\n",
              "\n",
              "    .dataframe thead th {\n",
              "        text-align: right;\n",
              "    }\n",
              "</style>\n",
              "<table border=\"1\" class=\"dataframe\">\n",
              "  <thead>\n",
              "    <tr style=\"text-align: right;\">\n",
              "      <th></th>\n",
              "      <th>age</th>\n",
              "      <th>duration</th>\n",
              "      <th>campaign</th>\n",
              "      <th>pdays</th>\n",
              "      <th>previous</th>\n",
              "      <th>emp.var.rate</th>\n",
              "      <th>cons.price.idx</th>\n",
              "      <th>cons.conf.idx</th>\n",
              "      <th>euribor3m</th>\n",
              "      <th>nr.employed</th>\n",
              "    </tr>\n",
              "  </thead>\n",
              "  <tbody>\n",
              "    <tr>\n",
              "      <th>3000</th>\n",
              "      <td>35</td>\n",
              "      <td>402</td>\n",
              "      <td>1</td>\n",
              "      <td>999</td>\n",
              "      <td>0</td>\n",
              "      <td>1.1</td>\n",
              "      <td>93.994</td>\n",
              "      <td>-36.4</td>\n",
              "      <td>4.859</td>\n",
              "      <td>5191.0</td>\n",
              "    </tr>\n",
              "    <tr>\n",
              "      <th>3001</th>\n",
              "      <td>54</td>\n",
              "      <td>252</td>\n",
              "      <td>2</td>\n",
              "      <td>999</td>\n",
              "      <td>0</td>\n",
              "      <td>1.1</td>\n",
              "      <td>93.994</td>\n",
              "      <td>-36.4</td>\n",
              "      <td>4.859</td>\n",
              "      <td>5191.0</td>\n",
              "    </tr>\n",
              "    <tr>\n",
              "      <th>3002</th>\n",
              "      <td>36</td>\n",
              "      <td>360</td>\n",
              "      <td>2</td>\n",
              "      <td>999</td>\n",
              "      <td>0</td>\n",
              "      <td>1.1</td>\n",
              "      <td>93.994</td>\n",
              "      <td>-36.4</td>\n",
              "      <td>4.859</td>\n",
              "      <td>5191.0</td>\n",
              "    </tr>\n",
              "    <tr>\n",
              "      <th>3003</th>\n",
              "      <td>26</td>\n",
              "      <td>852</td>\n",
              "      <td>2</td>\n",
              "      <td>999</td>\n",
              "      <td>0</td>\n",
              "      <td>1.1</td>\n",
              "      <td>93.994</td>\n",
              "      <td>-36.4</td>\n",
              "      <td>4.859</td>\n",
              "      <td>5191.0</td>\n",
              "    </tr>\n",
              "    <tr>\n",
              "      <th>3004</th>\n",
              "      <td>27</td>\n",
              "      <td>241</td>\n",
              "      <td>2</td>\n",
              "      <td>999</td>\n",
              "      <td>0</td>\n",
              "      <td>1.1</td>\n",
              "      <td>93.994</td>\n",
              "      <td>-36.4</td>\n",
              "      <td>4.859</td>\n",
              "      <td>5191.0</td>\n",
              "    </tr>\n",
              "  </tbody>\n",
              "</table>\n",
              "</div>\n",
              "      <button class=\"colab-df-convert\" onclick=\"convertToInteractive('df-49d3a239-0027-4cb9-9fd0-14e32e5fc46b')\"\n",
              "              title=\"Convert this dataframe to an interactive table.\"\n",
              "              style=\"display:none;\">\n",
              "        \n",
              "  <svg xmlns=\"http://www.w3.org/2000/svg\" height=\"24px\"viewBox=\"0 0 24 24\"\n",
              "       width=\"24px\">\n",
              "    <path d=\"M0 0h24v24H0V0z\" fill=\"none\"/>\n",
              "    <path d=\"M18.56 5.44l.94 2.06.94-2.06 2.06-.94-2.06-.94-.94-2.06-.94 2.06-2.06.94zm-11 1L8.5 8.5l.94-2.06 2.06-.94-2.06-.94L8.5 2.5l-.94 2.06-2.06.94zm10 10l.94 2.06.94-2.06 2.06-.94-2.06-.94-.94-2.06-.94 2.06-2.06.94z\"/><path d=\"M17.41 7.96l-1.37-1.37c-.4-.4-.92-.59-1.43-.59-.52 0-1.04.2-1.43.59L10.3 9.45l-7.72 7.72c-.78.78-.78 2.05 0 2.83L4 21.41c.39.39.9.59 1.41.59.51 0 1.02-.2 1.41-.59l7.78-7.78 2.81-2.81c.8-.78.8-2.07 0-2.86zM5.41 20L4 18.59l7.72-7.72 1.47 1.35L5.41 20z\"/>\n",
              "  </svg>\n",
              "      </button>\n",
              "      \n",
              "  <style>\n",
              "    .colab-df-container {\n",
              "      display:flex;\n",
              "      flex-wrap:wrap;\n",
              "      gap: 12px;\n",
              "    }\n",
              "\n",
              "    .colab-df-convert {\n",
              "      background-color: #E8F0FE;\n",
              "      border: none;\n",
              "      border-radius: 50%;\n",
              "      cursor: pointer;\n",
              "      display: none;\n",
              "      fill: #1967D2;\n",
              "      height: 32px;\n",
              "      padding: 0 0 0 0;\n",
              "      width: 32px;\n",
              "    }\n",
              "\n",
              "    .colab-df-convert:hover {\n",
              "      background-color: #E2EBFA;\n",
              "      box-shadow: 0px 1px 2px rgba(60, 64, 67, 0.3), 0px 1px 3px 1px rgba(60, 64, 67, 0.15);\n",
              "      fill: #174EA6;\n",
              "    }\n",
              "\n",
              "    [theme=dark] .colab-df-convert {\n",
              "      background-color: #3B4455;\n",
              "      fill: #D2E3FC;\n",
              "    }\n",
              "\n",
              "    [theme=dark] .colab-df-convert:hover {\n",
              "      background-color: #434B5C;\n",
              "      box-shadow: 0px 1px 3px 1px rgba(0, 0, 0, 0.15);\n",
              "      filter: drop-shadow(0px 1px 2px rgba(0, 0, 0, 0.3));\n",
              "      fill: #FFFFFF;\n",
              "    }\n",
              "  </style>\n",
              "\n",
              "      <script>\n",
              "        const buttonEl =\n",
              "          document.querySelector('#df-49d3a239-0027-4cb9-9fd0-14e32e5fc46b button.colab-df-convert');\n",
              "        buttonEl.style.display =\n",
              "          google.colab.kernel.accessAllowed ? 'block' : 'none';\n",
              "\n",
              "        async function convertToInteractive(key) {\n",
              "          const element = document.querySelector('#df-49d3a239-0027-4cb9-9fd0-14e32e5fc46b');\n",
              "          const dataTable =\n",
              "            await google.colab.kernel.invokeFunction('convertToInteractive',\n",
              "                                                     [key], {});\n",
              "          if (!dataTable) return;\n",
              "\n",
              "          const docLinkHtml = 'Like what you see? Visit the ' +\n",
              "            '<a target=\"_blank\" href=https://colab.research.google.com/notebooks/data_table.ipynb>data table notebook</a>'\n",
              "            + ' to learn more about interactive tables.';\n",
              "          element.innerHTML = '';\n",
              "          dataTable['output_type'] = 'display_data';\n",
              "          await google.colab.output.renderOutput(dataTable, element);\n",
              "          const docLink = document.createElement('div');\n",
              "          docLink.innerHTML = docLinkHtml;\n",
              "          element.appendChild(docLink);\n",
              "        }\n",
              "      </script>\n",
              "    </div>\n",
              "  </div>\n",
              "  "
            ]
          },
          "metadata": {},
          "execution_count": 40
        }
      ]
    },
    {
      "cell_type": "code",
      "source": [
        "dat = [[40, 510, 2, 888, 0, -1.1, 93.432, -32.3, 4.999, 5100],\n",
        "       [31, 200, 1, 45, 0, 1.1, 94.111, 36.1, 4.234, 4500],\n",
        "       [23, 235, 2, 41, 1, 1.1, 89.352, 42.5, 2.532, 5364]]\n",
        "dfs = pd.DataFrame(dat, columns =['age','duration','campaign','pdays','previous','emp.var.rate','cons.price.idx','cons.conf.idx','euribor3m','nr.employed'])"
      ],
      "metadata": {
        "id": "JtGk_8jlBjfQ"
      },
      "execution_count": 41,
      "outputs": []
    },
    {
      "cell_type": "code",
      "source": [
        "logistic_regressor = LogisticRegression(max_iter=1000, penalty='elasticnet', solver='saga', l1_ratio=0.5)\n",
        "pipeline = Pipeline(steps=[('add_poly_features', PolynomialFeatures()),\n",
        "                           ('logistic_regression', logistic_regressor)])"
      ],
      "metadata": {
        "id": "asiprSIWuxdF"
      },
      "execution_count": 42,
      "outputs": []
    },
    {
      "cell_type": "code",
      "source": [
        "X_train, X_test, y_train, y_test = train_test_split(x,y,test_size = 0.3)"
      ],
      "metadata": {
        "id": "A9-_vgGlvsm-"
      },
      "execution_count": 43,
      "outputs": []
    },
    {
      "cell_type": "code",
      "source": [
        "pipeline.fit(X_train, y_train)"
      ],
      "metadata": {
        "id": "9ZhIh8Umvwmt",
        "colab": {
          "base_uri": "https://localhost:8080/"
        },
        "outputId": "2a3c7524-e3ec-48d3-d0e9-0fce74b9f54d"
      },
      "execution_count": 44,
      "outputs": [
        {
          "output_type": "stream",
          "name": "stderr",
          "text": [
            "/usr/local/lib/python3.7/dist-packages/sklearn/linear_model/_sag.py:354: ConvergenceWarning: The max_iter was reached which means the coef_ did not converge\n",
            "  ConvergenceWarning,\n"
          ]
        },
        {
          "output_type": "execute_result",
          "data": {
            "text/plain": [
              "Pipeline(steps=[('add_poly_features', PolynomialFeatures()),\n",
              "                ('logistic_regression',\n",
              "                 LogisticRegression(l1_ratio=0.5, max_iter=1000,\n",
              "                                    penalty='elasticnet', solver='saga'))])"
            ]
          },
          "metadata": {},
          "execution_count": 44
        }
      ]
    },
    {
      "cell_type": "code",
      "source": [
        "y_pred = pipeline.predict(X_test)\n",
        "y_pred"
      ],
      "metadata": {
        "id": "IS5rJM6C8wDF",
        "colab": {
          "base_uri": "https://localhost:8080/"
        },
        "outputId": "ad7bf1df-4e10-42a0-b582-dc57eee0c7b9"
      },
      "execution_count": 45,
      "outputs": [
        {
          "output_type": "execute_result",
          "data": {
            "text/plain": [
              "array(['no', 'no', 'no', ..., 'no', 'no', 'no'], dtype=object)"
            ]
          },
          "metadata": {},
          "execution_count": 45
        }
      ]
    },
    {
      "cell_type": "code",
      "source": [
        "y_test"
      ],
      "metadata": {
        "id": "Ay6ex14H9Ava",
        "colab": {
          "base_uri": "https://localhost:8080/"
        },
        "outputId": "3b783c92-7167-42fb-a53f-58879ffe062e"
      },
      "execution_count": 46,
      "outputs": [
        {
          "output_type": "execute_result",
          "data": {
            "text/plain": [
              "1799     no\n",
              "11771    no\n",
              "13912    no\n",
              "37311    no\n",
              "8210     no\n",
              "         ..\n",
              "10434    no\n",
              "4008     no\n",
              "15870    no\n",
              "4925     no\n",
              "16293    no\n",
              "Name: y, Length: 12357, dtype: object"
            ]
          },
          "metadata": {},
          "execution_count": 46
        }
      ]
    },
    {
      "cell_type": "code",
      "source": [
        "# Applying confusion matrix on above data\n",
        "a = confusion_matrix(y_test,y_pred)\n",
        "print(a)\n",
        "sns.heatmap(a, annot=True)"
      ],
      "metadata": {
        "id": "1MxBX7iv9OBj",
        "colab": {
          "base_uri": "https://localhost:8080/",
          "height": 320
        },
        "outputId": "6558ca25-c0e6-4c87-a690-c01bdb29d6b4"
      },
      "execution_count": 111,
      "outputs": [
        {
          "output_type": "stream",
          "name": "stdout",
          "text": [
            "[[10740   257]\n",
            " [  843   517]]\n"
          ]
        },
        {
          "output_type": "execute_result",
          "data": {
            "text/plain": [
              "<matplotlib.axes._subplots.AxesSubplot at 0x7f8d8fc59290>"
            ]
          },
          "metadata": {},
          "execution_count": 111
        },
        {
          "output_type": "display_data",
          "data": {
            "text/plain": [
              "<Figure size 432x288 with 2 Axes>"
            ],
            "image/png": "[encoded data removed]"
          },
          "metadata": {}
        }
      ]
    },
    {
      "cell_type": "code",
      "source": [
        "precision_score(y_test,y_pred, average=\"binary\", pos_label=\"no\")"
      ],
      "metadata": {
        "id": "um9sWiCZ9RIT",
        "colab": {
          "base_uri": "https://localhost:8080/"
        },
        "outputId": "ac25208a-b356-4d69-8c46-e1e952f472c7"
      },
      "execution_count": 48,
      "outputs": [
        {
          "output_type": "execute_result",
          "data": {
            "text/plain": [
              "0.9272209272209272"
            ]
          },
          "metadata": {},
          "execution_count": 48
        }
      ]
    },
    {
      "cell_type": "code",
      "source": [
        "recall_score(y_test,y_pred, average=\"binary\", pos_label=\"no\")"
      ],
      "metadata": {
        "id": "kUJf5f6Y9_KC",
        "colab": {
          "base_uri": "https://localhost:8080/"
        },
        "outputId": "4babf147-a179-4c2b-9d5f-90db1f660711"
      },
      "execution_count": 49,
      "outputs": [
        {
          "output_type": "execute_result",
          "data": {
            "text/plain": [
              "0.976629989997272"
            ]
          },
          "metadata": {},
          "execution_count": 49
        }
      ]
    },
    {
      "cell_type": "code",
      "source": [
        "f1_score(y_test,y_pred, average=\"binary\", pos_label=\"no\")"
      ],
      "metadata": {
        "id": "0RbZjZFv-M7K",
        "colab": {
          "base_uri": "https://localhost:8080/"
        },
        "outputId": "1db7720b-9f9a-4ac2-9b87-4251f5ae4ce2"
      },
      "execution_count": 50,
      "outputs": [
        {
          "output_type": "execute_result",
          "data": {
            "text/plain": [
              "0.9512843224092117"
            ]
          },
          "metadata": {},
          "execution_count": 50
        }
      ]
    },
    {
      "cell_type": "markdown",
      "source": [
        "test"
      ],
      "metadata": {
        "id": "BaWvqjTh4rJC"
      }
    },
    {
      "cell_type": "code",
      "source": [
        "tes_pred = pipeline.predict(dfs)\n",
        "tes_pred"
      ],
      "metadata": {
        "id": "ukTN0yTP_-HC",
        "colab": {
          "base_uri": "https://localhost:8080/"
        },
        "outputId": "58583e93-0400-4b28-9960-02dc60116d11"
      },
      "execution_count": 51,
      "outputs": [
        {
          "output_type": "execute_result",
          "data": {
            "text/plain": [
              "array(['no', 'yes', 'no'], dtype=object)"
            ]
          },
          "metadata": {},
          "execution_count": 51
        }
      ]
    }
  ]
}